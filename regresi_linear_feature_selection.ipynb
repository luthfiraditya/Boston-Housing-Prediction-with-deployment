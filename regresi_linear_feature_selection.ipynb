{
  "cells": [
    {
      "cell_type": "markdown",
      "source": [
        "## **Linear Regression principle**"
      ],
      "metadata": {
        "id": "-NwvFb_kNyYy"
      }
    },
    {
      "cell_type": "markdown",
      "source": [
        "Linear regression is a **supervised learning algorithm** used when target / dependent variable continues real number. It establishes relationship between dependent variable  y  and one or more independent variable  x  using best fit line. It work on the **principle of ordinary least square  (OLS)  / Mean square errror  (MSE)** . In statistics ols is method to estimated unkown parameter of linear regression function, it's goal is to minimize sum of square difference between observed dependent variable in the given data set and those predicted by linear regression fuction."
      ],
      "metadata": {
        "id": "iKMMGj0IN_lj"
      }
    },
    {
      "cell_type": "markdown",
      "source": [
        "The goal of supervised learning is to learn a hypothesis function  h , for a given training set that can used to estimate  y  based on  x . So hypothesis fuction represented as"
      ],
      "metadata": {
        "id": "kjL46DuKOmA1"
      }
    },
    {
      "cell_type": "markdown",
      "source": [
        "![image.png](data:image/png;base64,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)"
      ],
      "metadata": {
        "id": "AqDOhDaqOnlD"
      }
    },
    {
      "cell_type": "markdown",
      "source": [
        "θ0,θ1  are parameter of hypothesis.This is equation for Simple / Univariate Linear regression.\n",
        "\n"
      ],
      "metadata": {
        "id": "xAs8tdgOOy1q"
      }
    },
    {
      "cell_type": "code",
      "execution_count": null,
      "metadata": {
        "id": "BUE82-GVBMgF"
      },
      "outputs": [],
      "source": [
        "#! pip install https://github.com/pandas-profiling/pandas-profiling/archive/master.zip "
      ]
    },
    {
      "cell_type": "code",
      "execution_count": null,
      "metadata": {
        "id": "hfHWNEhwwKfZ",
        "colab": {
          "base_uri": "https://localhost:8080/"
        },
        "outputId": "42f228bc-f93e-4288-8257-7d8f10ab8052"
      },
      "outputs": [
        {
          "output_type": "stream",
          "name": "stderr",
          "text": [
            "/usr/local/lib/python3.7/dist-packages/statsmodels/tools/_testing.py:19: FutureWarning: pandas.util.testing is deprecated. Use the functions in the public API at pandas.testing instead.\n",
            "  import pandas.util.testing as tm\n"
          ]
        }
      ],
      "source": [
        "#library for data processing\n",
        "import pandas as pd # data processing\n",
        "import numpy as np # linear algebra\n",
        "from pandas_profiling import ProfileReport\n",
        "\n",
        "#library for data visualization\n",
        "import matplotlib\n",
        "import matplotlib.pyplot as plt\n",
        "import seaborn as sns\n",
        "sns.set(style='white')\n",
        "%matplotlib inline\n",
        "\n",
        "#library for data modelling\n",
        "from sklearn.datasets import load_boston\n",
        "import statsmodels.api as sm\n",
        "from statsmodels.stats.outliers_influence import variance_inflation_factor\n",
        "from sklearn.model_selection import train_test_split\n",
        "from sklearn.metrics import r2_score"
      ]
    },
    {
      "cell_type": "code",
      "execution_count": null,
      "metadata": {
        "colab": {
          "base_uri": "https://localhost:8080/"
        },
        "id": "uIhYOk-K_68-",
        "outputId": "a7429afa-33a0-4ee8-859e-d4120ce064ed"
      },
      "outputs": [
        {
          "output_type": "stream",
          "name": "stderr",
          "text": [
            "/usr/local/lib/python3.7/dist-packages/sklearn/utils/deprecation.py:87: FutureWarning: Function load_boston is deprecated; `load_boston` is deprecated in 1.0 and will be removed in 1.2.\n",
            "\n",
            "    The Boston housing prices dataset has an ethical problem. You can refer to\n",
            "    the documentation of this function for further details.\n",
            "\n",
            "    The scikit-learn maintainers therefore strongly discourage the use of this\n",
            "    dataset unless the purpose of the code is to study and educate about\n",
            "    ethical issues in data science and machine learning.\n",
            "\n",
            "    In this special case, you can fetch the dataset from the original\n",
            "    source::\n",
            "\n",
            "        import pandas as pd\n",
            "        import numpy as np\n",
            "\n",
            "\n",
            "        data_url = \"http://lib.stat.cmu.edu/datasets/boston\"\n",
            "        raw_df = pd.read_csv(data_url, sep=\"\\s+\", skiprows=22, header=None)\n",
            "        data = np.hstack([raw_df.values[::2, :], raw_df.values[1::2, :2]])\n",
            "        target = raw_df.values[1::2, 2]\n",
            "\n",
            "    Alternative datasets include the California housing dataset (i.e.\n",
            "    :func:`~sklearn.datasets.fetch_california_housing`) and the Ames housing\n",
            "    dataset. You can load the datasets as follows::\n",
            "\n",
            "        from sklearn.datasets import fetch_california_housing\n",
            "        housing = fetch_california_housing()\n",
            "\n",
            "    for the California housing dataset and::\n",
            "\n",
            "        from sklearn.datasets import fetch_openml\n",
            "        housing = fetch_openml(name=\"house_prices\", as_frame=True)\n",
            "\n",
            "    for the Ames housing dataset.\n",
            "    \n",
            "  warnings.warn(msg, category=FutureWarning)\n"
          ]
        }
      ],
      "source": [
        "#load boston dataset from sklearn.dataset\n",
        "boston=load_boston()"
      ]
    },
    {
      "cell_type": "code",
      "execution_count": null,
      "metadata": {
        "colab": {
          "base_uri": "https://localhost:8080/"
        },
        "id": "VvPd1rtJANHJ",
        "outputId": "94c9f2cb-f575-44d5-e715-d94e45d299b1"
      },
      "outputs": [
        {
          "output_type": "stream",
          "name": "stdout",
          "text": [
            "['load_boston', 'load_breast_cancer', 'load_diabetes', 'load_digits', 'load_files', 'load_iris', 'load_linnerud', 'load_sample_image', 'load_sample_images', 'load_svmlight_file', 'load_svmlight_files', 'load_wine']\n"
          ]
        },
        {
          "output_type": "stream",
          "name": "stderr",
          "text": [
            "/usr/local/lib/python3.7/dist-packages/sklearn/utils/deprecation.py:87: FutureWarning: Function load_boston is deprecated; `load_boston` is deprecated in 1.0 and will be removed in 1.2.\n",
            "\n",
            "    The Boston housing prices dataset has an ethical problem. You can refer to\n",
            "    the documentation of this function for further details.\n",
            "\n",
            "    The scikit-learn maintainers therefore strongly discourage the use of this\n",
            "    dataset unless the purpose of the code is to study and educate about\n",
            "    ethical issues in data science and machine learning.\n",
            "\n",
            "    In this special case, you can fetch the dataset from the original\n",
            "    source::\n",
            "\n",
            "        import pandas as pd\n",
            "        import numpy as np\n",
            "\n",
            "\n",
            "        data_url = \"http://lib.stat.cmu.edu/datasets/boston\"\n",
            "        raw_df = pd.read_csv(data_url, sep=\"\\s+\", skiprows=22, header=None)\n",
            "        data = np.hstack([raw_df.values[::2, :], raw_df.values[1::2, :2]])\n",
            "        target = raw_df.values[1::2, 2]\n",
            "\n",
            "    Alternative datasets include the California housing dataset (i.e.\n",
            "    :func:`~sklearn.datasets.fetch_california_housing`) and the Ames housing\n",
            "    dataset. You can load the datasets as follows::\n",
            "\n",
            "        from sklearn.datasets import fetch_california_housing\n",
            "        housing = fetch_california_housing()\n",
            "\n",
            "    for the California housing dataset and::\n",
            "\n",
            "        from sklearn.datasets import fetch_openml\n",
            "        housing = fetch_openml(name=\"house_prices\", as_frame=True)\n",
            "\n",
            "    for the Ames housing dataset.\n",
            "    \n",
            "  warnings.warn(msg, category=FutureWarning)\n"
          ]
        }
      ],
      "source": [
        "#open boston dataset and put on dataframe\n",
        "from sklearn import datasets\n",
        "\n",
        "fnames = [ i for i in dir(datasets) if 'load_' in i]\n",
        "print(fnames)\n",
        "\n",
        "fname = 'load_boston'\n",
        "loader = getattr(datasets,fname)()\n",
        "df = pd.DataFrame(loader['data'],columns= loader['feature_names'])\n",
        "df['target'] = loader['target']"
      ]
    },
    {
      "cell_type": "code",
      "source": [
        "#description of dataset\n",
        "print(boston['DESCR'])"
      ],
      "metadata": {
        "colab": {
          "base_uri": "https://localhost:8080/"
        },
        "id": "DsfesxOWL_pz",
        "outputId": "f6b63635-ed8d-48c9-d9b6-97ddf8c69b16"
      },
      "execution_count": null,
      "outputs": [
        {
          "output_type": "stream",
          "name": "stdout",
          "text": [
            ".. _boston_dataset:\n",
            "\n",
            "Boston house prices dataset\n",
            "---------------------------\n",
            "\n",
            "**Data Set Characteristics:**  \n",
            "\n",
            "    :Number of Instances: 506 \n",
            "\n",
            "    :Number of Attributes: 13 numeric/categorical predictive. Median Value (attribute 14) is usually the target.\n",
            "\n",
            "    :Attribute Information (in order):\n",
            "        - CRIM     per capita crime rate by town\n",
            "        - ZN       proportion of residential land zoned for lots over 25,000 sq.ft.\n",
            "        - INDUS    proportion of non-retail business acres per town\n",
            "        - CHAS     Charles River dummy variable (= 1 if tract bounds river; 0 otherwise)\n",
            "        - NOX      nitric oxides concentration (parts per 10 million)\n",
            "        - RM       average number of rooms per dwelling\n",
            "        - AGE      proportion of owner-occupied units built prior to 1940\n",
            "        - DIS      weighted distances to five Boston employment centres\n",
            "        - RAD      index of accessibility to radial highways\n",
            "        - TAX      full-value property-tax rate per $10,000\n",
            "        - PTRATIO  pupil-teacher ratio by town\n",
            "        - B        1000(Bk - 0.63)^2 where Bk is the proportion of black people by town\n",
            "        - LSTAT    % lower status of the population\n",
            "        - MEDV     Median value of owner-occupied homes in $1000's\n",
            "\n",
            "    :Missing Attribute Values: None\n",
            "\n",
            "    :Creator: Harrison, D. and Rubinfeld, D.L.\n",
            "\n",
            "This is a copy of UCI ML housing dataset.\n",
            "https://archive.ics.uci.edu/ml/machine-learning-databases/housing/\n",
            "\n",
            "\n",
            "This dataset was taken from the StatLib library which is maintained at Carnegie Mellon University.\n",
            "\n",
            "The Boston house-price data of Harrison, D. and Rubinfeld, D.L. 'Hedonic\n",
            "prices and the demand for clean air', J. Environ. Economics & Management,\n",
            "vol.5, 81-102, 1978.   Used in Belsley, Kuh & Welsch, 'Regression diagnostics\n",
            "...', Wiley, 1980.   N.B. Various transformations are used in the table on\n",
            "pages 244-261 of the latter.\n",
            "\n",
            "The Boston house-price data has been used in many machine learning papers that address regression\n",
            "problems.   \n",
            "     \n",
            ".. topic:: References\n",
            "\n",
            "   - Belsley, Kuh & Welsch, 'Regression diagnostics: Identifying Influential Data and Sources of Collinearity', Wiley, 1980. 244-261.\n",
            "   - Quinlan,R. (1993). Combining Instance-Based and Model-Based Learning. In Proceedings on the Tenth International Conference of Machine Learning, 236-243, University of Massachusetts, Amherst. Morgan Kaufmann.\n",
            "\n"
          ]
        }
      ]
    },
    {
      "cell_type": "code",
      "execution_count": null,
      "metadata": {
        "id": "lqk93z3eBkVe"
      },
      "outputs": [],
      "source": [
        "#pandas profilling\n",
        "\n",
        "#profile = ProfileReport(df, title=\"Pandas Profiling Report\", html={'style':{'full_width':True}})\n",
        "#profile.to_notebook_iframe()\n",
        "#profile.to_file(output_file='boston_profiling.html')"
      ]
    },
    {
      "cell_type": "markdown",
      "source": [
        "### **Data Exploration**"
      ],
      "metadata": {
        "id": "5p-27hFQr0HG"
      }
    },
    {
      "cell_type": "code",
      "execution_count": null,
      "metadata": {
        "colab": {
          "base_uri": "https://localhost:8080/",
          "height": 1000
        },
        "id": "6gLP9j2UAzvL",
        "outputId": "53154e2b-c757-4c67-8301-6fa6eabebce0"
      },
      "outputs": [
        {
          "output_type": "stream",
          "name": "stderr",
          "text": [
            "/usr/local/lib/python3.7/dist-packages/seaborn/distributions.py:2619: FutureWarning: `distplot` is a deprecated function and will be removed in a future version. Please adapt your code to use either `displot` (a figure-level function with similar flexibility) or `histplot` (an axes-level function for histograms).\n",
            "  warnings.warn(msg, FutureWarning)\n",
            "/usr/local/lib/python3.7/dist-packages/seaborn/distributions.py:2619: FutureWarning: `distplot` is a deprecated function and will be removed in a future version. Please adapt your code to use either `displot` (a figure-level function with similar flexibility) or `histplot` (an axes-level function for histograms).\n",
            "  warnings.warn(msg, FutureWarning)\n",
            "/usr/local/lib/python3.7/dist-packages/seaborn/distributions.py:2619: FutureWarning: `distplot` is a deprecated function and will be removed in a future version. Please adapt your code to use either `displot` (a figure-level function with similar flexibility) or `histplot` (an axes-level function for histograms).\n",
            "  warnings.warn(msg, FutureWarning)\n",
            "/usr/local/lib/python3.7/dist-packages/seaborn/distributions.py:2619: FutureWarning: `distplot` is a deprecated function and will be removed in a future version. Please adapt your code to use either `displot` (a figure-level function with similar flexibility) or `histplot` (an axes-level function for histograms).\n",
            "  warnings.warn(msg, FutureWarning)\n",
            "/usr/local/lib/python3.7/dist-packages/seaborn/distributions.py:2619: FutureWarning: `distplot` is a deprecated function and will be removed in a future version. Please adapt your code to use either `displot` (a figure-level function with similar flexibility) or `histplot` (an axes-level function for histograms).\n",
            "  warnings.warn(msg, FutureWarning)\n",
            "/usr/local/lib/python3.7/dist-packages/seaborn/distributions.py:2619: FutureWarning: `distplot` is a deprecated function and will be removed in a future version. Please adapt your code to use either `displot` (a figure-level function with similar flexibility) or `histplot` (an axes-level function for histograms).\n",
            "  warnings.warn(msg, FutureWarning)\n",
            "/usr/local/lib/python3.7/dist-packages/seaborn/distributions.py:2619: FutureWarning: `distplot` is a deprecated function and will be removed in a future version. Please adapt your code to use either `displot` (a figure-level function with similar flexibility) or `histplot` (an axes-level function for histograms).\n",
            "  warnings.warn(msg, FutureWarning)\n",
            "/usr/local/lib/python3.7/dist-packages/seaborn/distributions.py:2619: FutureWarning: `distplot` is a deprecated function and will be removed in a future version. Please adapt your code to use either `displot` (a figure-level function with similar flexibility) or `histplot` (an axes-level function for histograms).\n",
            "  warnings.warn(msg, FutureWarning)\n",
            "/usr/local/lib/python3.7/dist-packages/seaborn/distributions.py:2619: FutureWarning: `distplot` is a deprecated function and will be removed in a future version. Please adapt your code to use either `displot` (a figure-level function with similar flexibility) or `histplot` (an axes-level function for histograms).\n",
            "  warnings.warn(msg, FutureWarning)\n",
            "/usr/local/lib/python3.7/dist-packages/seaborn/distributions.py:2619: FutureWarning: `distplot` is a deprecated function and will be removed in a future version. Please adapt your code to use either `displot` (a figure-level function with similar flexibility) or `histplot` (an axes-level function for histograms).\n",
            "  warnings.warn(msg, FutureWarning)\n",
            "/usr/local/lib/python3.7/dist-packages/seaborn/distributions.py:2619: FutureWarning: `distplot` is a deprecated function and will be removed in a future version. Please adapt your code to use either `displot` (a figure-level function with similar flexibility) or `histplot` (an axes-level function for histograms).\n",
            "  warnings.warn(msg, FutureWarning)\n",
            "/usr/local/lib/python3.7/dist-packages/seaborn/distributions.py:2619: FutureWarning: `distplot` is a deprecated function and will be removed in a future version. Please adapt your code to use either `displot` (a figure-level function with similar flexibility) or `histplot` (an axes-level function for histograms).\n",
            "  warnings.warn(msg, FutureWarning)\n",
            "/usr/local/lib/python3.7/dist-packages/seaborn/distributions.py:2619: FutureWarning: `distplot` is a deprecated function and will be removed in a future version. Please adapt your code to use either `displot` (a figure-level function with similar flexibility) or `histplot` (an axes-level function for histograms).\n",
            "  warnings.warn(msg, FutureWarning)\n",
            "/usr/local/lib/python3.7/dist-packages/seaborn/distributions.py:2619: FutureWarning: `distplot` is a deprecated function and will be removed in a future version. Please adapt your code to use either `displot` (a figure-level function with similar flexibility) or `histplot` (an axes-level function for histograms).\n",
            "  warnings.warn(msg, FutureWarning)\n"
          ]
        },
        {
          "output_type": "display_data",
          "data": {
            "text/plain": [
              "<Figure size 1440x1080 with 14 Axes>"
            ],
            "image/png": "[encoded data removed]"
          },
          "metadata": {
            "needs_background": "light"
          }
        }
      ],
      "source": [
        "import matplotlib.pyplot as plt\n",
        "import seaborn as sns\n",
        "\n",
        "%matplotlib inline\n",
        "\n",
        "plt.figure(figsize = (20, 15))\n",
        "plotnumber = 1\n",
        "\n",
        "for column in df:\n",
        "    if plotnumber <= 14:\n",
        "        ax = plt.subplot(3, 5, plotnumber)\n",
        "        sns.distplot(df[column])\n",
        "        plt.xlabel(column, fontsize = 15)\n",
        "        \n",
        "    plotnumber += 1\n",
        "    \n",
        "plt.tight_layout()\n",
        "plt.show()"
      ]
    },
    {
      "cell_type": "code",
      "execution_count": null,
      "metadata": {
        "colab": {
          "base_uri": "https://localhost:8080/",
          "height": 591
        },
        "id": "dpH3iX1gFPTm",
        "outputId": "aff9b955-edf3-4cc2-b131-98c955d34550"
      },
      "outputs": [
        {
          "output_type": "stream",
          "name": "stderr",
          "text": [
            "/usr/local/lib/python3.7/dist-packages/seaborn/distributions.py:2619: FutureWarning: `distplot` is a deprecated function and will be removed in a future version. Please adapt your code to use either `displot` (a figure-level function with similar flexibility) or `histplot` (an axes-level function for histograms).\n",
            "  warnings.warn(msg, FutureWarning)\n",
            "/usr/local/lib/python3.7/dist-packages/seaborn/distributions.py:2103: FutureWarning: The `axis` variable is no longer used and will be removed. Instead, assign variables directly to `x` or `y`.\n",
            "  warnings.warn(msg, FutureWarning)\n"
          ]
        },
        {
          "output_type": "display_data",
          "data": {
            "text/plain": [
              "<Figure size 720x576 with 1 Axes>"
            ],
            "image/png": "[encoded data removed]"
          },
          "metadata": {
            "needs_background": "light"
          }
        }
      ],
      "source": [
        "plt.figure(figsize=(10, 8))\n",
        "sns.distplot(df['target'], rug=True)\n",
        "plt.show()"
      ]
    },
    {
      "cell_type": "markdown",
      "source": [
        "if we look at the distribution of our targets normally distributed, with a few outliers on the right"
      ],
      "metadata": {
        "id": "nIiKl_q4qDXX"
      }
    },
    {
      "cell_type": "code",
      "source": [
        "mask = np.zeros_like(df.corr(), dtype=np.bool)\n",
        "mask[np.triu_indices_from(mask)] = True\n",
        "cmap = sns.diverging_palette(220, 10, as_cmap=True)\n",
        "\n",
        "plt.figure(figsize=(10,10))\n",
        "sns.heatmap(df.corr(), annot=True, vmin=-1, vmax=1, square=True, mask=mask, cmap=cmap, linewidths=2)\n",
        "plt.show()"
      ],
      "metadata": {
        "colab": {
          "base_uri": "https://localhost:8080/",
          "height": 657
        },
        "id": "0sqUTWvyqQIu",
        "outputId": "44518d0f-fdee-43c9-9994-0c02790cc9fc"
      },
      "execution_count": null,
      "outputs": [
        {
          "output_type": "stream",
          "name": "stderr",
          "text": [
            "/usr/local/lib/python3.7/dist-packages/ipykernel_launcher.py:1: DeprecationWarning: `np.bool` is a deprecated alias for the builtin `bool`. To silence this warning, use `bool` by itself. Doing this will not modify any behavior and is safe. If you specifically wanted the numpy scalar type, use `np.bool_` here.\n",
            "Deprecated in NumPy 1.20; for more details and guidance: https://numpy.org/devdocs/release/1.20.0-notes.html#deprecations\n",
            "  \"\"\"Entry point for launching an IPython kernel.\n"
          ]
        },
        {
          "output_type": "display_data",
          "data": {
            "text/plain": [
              "<Figure size 720x720 with 2 Axes>"
            ],
            "image/png": "[encoded data removed]"
          },
          "metadata": {
            "needs_background": "light"
          }
        }
      ]
    },
    {
      "cell_type": "code",
      "source": [
        "df['CHAS'].unique()"
      ],
      "metadata": {
        "colab": {
          "base_uri": "https://localhost:8080/"
        },
        "id": "7ialG22s_fd1",
        "outputId": "9ef456ef-573b-42ac-94dd-f261c08c5df2"
      },
      "execution_count": null,
      "outputs": [
        {
          "output_type": "execute_result",
          "data": {
            "text/plain": [
              "array([0., 1.])"
            ]
          },
          "metadata": {},
          "execution_count": 15
        }
      ]
    },
    {
      "cell_type": "code",
      "source": [
        "\n",
        "X=df.loc[:, df.columns != 'target']\n",
        "y=df[\"target\"]"
      ],
      "metadata": {
        "id": "IRv2tRN5tPjJ"
      },
      "execution_count": null,
      "outputs": []
    },
    {
      "cell_type": "code",
      "source": [
        "# Split training and test dataset\n",
        "X_train, X_test, y_train, y_test = train_test_split(X, y, test_size=0.2,random_state=100)\n"
      ],
      "metadata": {
        "id": "gUHKGb1ntOPh"
      },
      "execution_count": null,
      "outputs": []
    },
    {
      "cell_type": "code",
      "source": [
        "print(\"Data train shape : \",X_train.shape)\n",
        "print(\"Data test shape  : \",X_test.shape)"
      ],
      "metadata": {
        "colab": {
          "base_uri": "https://localhost:8080/"
        },
        "id": "VDWU3BCyuQlP",
        "outputId": "fd704cde-77da-4bb6-b3d0-34719ca08213"
      },
      "execution_count": null,
      "outputs": [
        {
          "output_type": "stream",
          "name": "stdout",
          "text": [
            "Data train shape :  (404, 13)\n",
            "Data test shape  :  (102, 13)\n"
          ]
        }
      ]
    },
    {
      "cell_type": "code",
      "source": [
        "print(\"Target train shape : \",y_train.shape)\n",
        "print(\"Target test shape  : \",y_test.shape)"
      ],
      "metadata": {
        "colab": {
          "base_uri": "https://localhost:8080/"
        },
        "id": "NBzDG5DpuRHw",
        "outputId": "01b078cf-8711-4f56-cbc3-a49ee499e218"
      },
      "execution_count": null,
      "outputs": [
        {
          "output_type": "stream",
          "name": "stdout",
          "text": [
            "Target train shape :  (404,)\n",
            "Target test shape  :  (102,)\n"
          ]
        }
      ]
    },
    {
      "cell_type": "markdown",
      "source": [
        "jika kita lihat dari heatmap diatas ada beberapa korelasi yang kuat pada variabel, terutama pada variabel TAX(full-value property-tax rate per $10,000) dan RAD(index of accessibility to radial highways).\n",
        "\n",
        "!!! hal ini harus diwaspadai karena pada model linear regression kita menggunakan assumsi tidak adanya multicollinearity."
      ],
      "metadata": {
        "id": "49I8ABT9q4un"
      }
    },
    {
      "cell_type": "markdown",
      "source": [
        "### **Modelling with Feature Selection**"
      ],
      "metadata": {
        "id": "NMvuVaK-sHIn"
      }
    },
    {
      "cell_type": "markdown",
      "source": [
        "Because we have recognized from the last graph that the features are not linearly independent from each other, after every time when we fit a model, we will check the VIF (variance inflation factor) for multicollinearity, and take the feature with the largest off the model. And once every VIF value is lower than 5, we arrive at a model with low enough multicollinearity."
      ],
      "metadata": {
        "id": "JTCtFr28ssMX"
      }
    },
    {
      "cell_type": "markdown",
      "source": [
        "![download.png](data:image/png;base64,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)"
      ],
      "metadata": {
        "id": "hwIxfHzbu_Ms"
      }
    },
    {
      "cell_type": "markdown",
      "source": [
        "**Without constant B0**"
      ],
      "metadata": {
        "id": "SLgNW5TKvUkS"
      }
    },
    {
      "cell_type": "markdown",
      "source": [
        "**Model Building - Linear Regression**"
      ],
      "metadata": {
        "id": "hk0xpXHSAgKX"
      }
    },
    {
      "cell_type": "markdown",
      "source": [
        "**Feature Scaling**"
      ],
      "metadata": {
        "id": "hEntBhptA2H2"
      }
    },
    {
      "cell_type": "code",
      "source": [
        "# Scaling the numerical variables \n",
        "from sklearn.preprocessing import MinMaxScaler\n",
        "scaler = MinMaxScaler()"
      ],
      "metadata": {
        "id": "GdiCWuRh_NNE"
      },
      "execution_count": null,
      "outputs": []
    },
    {
      "cell_type": "code",
      "source": [
        "df.columns"
      ],
      "metadata": {
        "colab": {
          "base_uri": "https://localhost:8080/"
        },
        "id": "76JU43EaCiWn",
        "outputId": "9e35a6ac-3115-4d09-c285-b707629c9fad"
      },
      "execution_count": null,
      "outputs": [
        {
          "output_type": "execute_result",
          "data": {
            "text/plain": [
              "Index(['CRIM', 'ZN', 'INDUS', 'CHAS', 'NOX', 'RM', 'AGE', 'DIS', 'RAD', 'TAX',\n",
              "       'PTRATIO', 'B', 'LSTAT', 'target'],\n",
              "      dtype='object')"
            ]
          },
          "metadata": {},
          "execution_count": 17
        }
      ]
    },
    {
      "cell_type": "code",
      "source": [
        "# Scaling the numerical variables in the training set \n",
        "num_vars = ['CRIM', 'ZN', 'INDUS', 'NOX', 'RM', 'AGE', 'DIS', 'RAD', 'TAX',\n",
        "       'PTRATIO', 'B', 'LSTAT']\n",
        "\n",
        "X_train[num_vars] = scaler.fit_transform(X_train[num_vars])\n",
        "\n",
        "X_train.head()"
      ],
      "metadata": {
        "colab": {
          "base_uri": "https://localhost:8080/",
          "height": 270
        },
        "id": "-hQyrkAK90u3",
        "outputId": "c7035417-7b3c-4814-ecdf-785620b3e4b3"
      },
      "execution_count": null,
      "outputs": [
        {
          "output_type": "execute_result",
          "data": {
            "text/plain": [
              "         CRIM    ZN     INDUS  CHAS       NOX        RM       AGE       DIS  \\\n",
              "379  0.242907  0.00  0.646628   0.0  0.588477  0.510059  1.000000  0.026773   \n",
              "311  0.010664  0.00  0.346041   0.0  0.327160  0.490707  0.497872  0.157682   \n",
              "157  0.016555  0.00  0.700880   0.0  0.452675  0.648017  0.972340  0.078042   \n",
              "244  0.002717  0.22  0.197947   0.0  0.094650  0.389347  0.750000  0.712401   \n",
              "56   0.000194  0.85  0.010264   0.0  0.051440  0.540717  0.315957  0.841066   \n",
              "\n",
              "          RAD       TAX   PTRATIO         B     LSTAT  \n",
              "379  1.000000  0.913958  0.808511  0.992032  0.553256  \n",
              "311  0.130435  0.221797  0.617021  1.000000  0.117274  \n",
              "157  0.173913  0.411090  0.223404  0.915603  0.078918  \n",
              "244  0.260870  0.271511  0.691489  0.938449  0.297185  \n",
              "56   0.043478  0.239006  0.500000  1.000000  0.111479  "
            ],
            "text/html": [
              "\n",
              "  <div id=\"df-f4255981-7ccf-44e0-ae55-4265d0bdaba1\">\n",
              "    <div class=\"colab-df-container\">\n",
              "      <div>\n",
              "<style scoped>\n",
              "    .dataframe tbody tr th:only-of-type {\n",
              "        vertical-align: middle;\n",
              "    }\n",
              "\n",
              "    .dataframe tbody tr th {\n",
              "        vertical-align: top;\n",
              "    }\n",
              "\n",
              "    .dataframe thead th {\n",
              "        text-align: right;\n",
              "    }\n",
              "</style>\n",
              "<table border=\"1\" class=\"dataframe\">\n",
              "  <thead>\n",
              "    <tr style=\"text-align: right;\">\n",
              "      <th></th>\n",
              "      <th>CRIM</th>\n",
              "      <th>ZN</th>\n",
              "      <th>INDUS</th>\n",
              "      <th>CHAS</th>\n",
              "      <th>NOX</th>\n",
              "      <th>RM</th>\n",
              "      <th>AGE</th>\n",
              "      <th>DIS</th>\n",
              "      <th>RAD</th>\n",
              "      <th>TAX</th>\n",
              "      <th>PTRATIO</th>\n",
              "      <th>B</th>\n",
              "      <th>LSTAT</th>\n",
              "    </tr>\n",
              "  </thead>\n",
              "  <tbody>\n",
              "    <tr>\n",
              "      <th>379</th>\n",
              "      <td>0.242907</td>\n",
              "      <td>0.00</td>\n",
              "      <td>0.646628</td>\n",
              "      <td>0.0</td>\n",
              "      <td>0.588477</td>\n",
              "      <td>0.510059</td>\n",
              "      <td>1.000000</td>\n",
              "      <td>0.026773</td>\n",
              "      <td>1.000000</td>\n",
              "      <td>0.913958</td>\n",
              "      <td>0.808511</td>\n",
              "      <td>0.992032</td>\n",
              "      <td>0.553256</td>\n",
              "    </tr>\n",
              "    <tr>\n",
              "      <th>311</th>\n",
              "      <td>0.010664</td>\n",
              "      <td>0.00</td>\n",
              "      <td>0.346041</td>\n",
              "      <td>0.0</td>\n",
              "      <td>0.327160</td>\n",
              "      <td>0.490707</td>\n",
              "      <td>0.497872</td>\n",
              "      <td>0.157682</td>\n",
              "      <td>0.130435</td>\n",
              "      <td>0.221797</td>\n",
              "      <td>0.617021</td>\n",
              "      <td>1.000000</td>\n",
              "      <td>0.117274</td>\n",
              "    </tr>\n",
              "    <tr>\n",
              "      <th>157</th>\n",
              "      <td>0.016555</td>\n",
              "      <td>0.00</td>\n",
              "      <td>0.700880</td>\n",
              "      <td>0.0</td>\n",
              "      <td>0.452675</td>\n",
              "      <td>0.648017</td>\n",
              "      <td>0.972340</td>\n",
              "      <td>0.078042</td>\n",
              "      <td>0.173913</td>\n",
              "      <td>0.411090</td>\n",
              "      <td>0.223404</td>\n",
              "      <td>0.915603</td>\n",
              "      <td>0.078918</td>\n",
              "    </tr>\n",
              "    <tr>\n",
              "      <th>244</th>\n",
              "      <td>0.002717</td>\n",
              "      <td>0.22</td>\n",
              "      <td>0.197947</td>\n",
              "      <td>0.0</td>\n",
              "      <td>0.094650</td>\n",
              "      <td>0.389347</td>\n",
              "      <td>0.750000</td>\n",
              "      <td>0.712401</td>\n",
              "      <td>0.260870</td>\n",
              "      <td>0.271511</td>\n",
              "      <td>0.691489</td>\n",
              "      <td>0.938449</td>\n",
              "      <td>0.297185</td>\n",
              "    </tr>\n",
              "    <tr>\n",
              "      <th>56</th>\n",
              "      <td>0.000194</td>\n",
              "      <td>0.85</td>\n",
              "      <td>0.010264</td>\n",
              "      <td>0.0</td>\n",
              "      <td>0.051440</td>\n",
              "      <td>0.540717</td>\n",
              "      <td>0.315957</td>\n",
              "      <td>0.841066</td>\n",
              "      <td>0.043478</td>\n",
              "      <td>0.239006</td>\n",
              "      <td>0.500000</td>\n",
              "      <td>1.000000</td>\n",
              "      <td>0.111479</td>\n",
              "    </tr>\n",
              "  </tbody>\n",
              "</table>\n",
              "</div>\n",
              "      <button class=\"colab-df-convert\" onclick=\"convertToInteractive('df-f4255981-7ccf-44e0-ae55-4265d0bdaba1')\"\n",
              "              title=\"Convert this dataframe to an interactive table.\"\n",
              "              style=\"display:none;\">\n",
              "        \n",
              "  <svg xmlns=\"http://www.w3.org/2000/svg\" height=\"24px\"viewBox=\"0 0 24 24\"\n",
              "       width=\"24px\">\n",
              "    <path d=\"M0 0h24v24H0V0z\" fill=\"none\"/>\n",
              "    <path d=\"M18.56 5.44l.94 2.06.94-2.06 2.06-.94-2.06-.94-.94-2.06-.94 2.06-2.06.94zm-11 1L8.5 8.5l.94-2.06 2.06-.94-2.06-.94L8.5 2.5l-.94 2.06-2.06.94zm10 10l.94 2.06.94-2.06 2.06-.94-2.06-.94-.94-2.06-.94 2.06-2.06.94z\"/><path d=\"M17.41 7.96l-1.37-1.37c-.4-.4-.92-.59-1.43-.59-.52 0-1.04.2-1.43.59L10.3 9.45l-7.72 7.72c-.78.78-.78 2.05 0 2.83L4 21.41c.39.39.9.59 1.41.59.51 0 1.02-.2 1.41-.59l7.78-7.78 2.81-2.81c.8-.78.8-2.07 0-2.86zM5.41 20L4 18.59l7.72-7.72 1.47 1.35L5.41 20z\"/>\n",
              "  </svg>\n",
              "      </button>\n",
              "      \n",
              "  <style>\n",
              "    .colab-df-container {\n",
              "      display:flex;\n",
              "      flex-wrap:wrap;\n",
              "      gap: 12px;\n",
              "    }\n",
              "\n",
              "    .colab-df-convert {\n",
              "      background-color: #E8F0FE;\n",
              "      border: none;\n",
              "      border-radius: 50%;\n",
              "      cursor: pointer;\n",
              "      display: none;\n",
              "      fill: #1967D2;\n",
              "      height: 32px;\n",
              "      padding: 0 0 0 0;\n",
              "      width: 32px;\n",
              "    }\n",
              "\n",
              "    .colab-df-convert:hover {\n",
              "      background-color: #E2EBFA;\n",
              "      box-shadow: 0px 1px 2px rgba(60, 64, 67, 0.3), 0px 1px 3px 1px rgba(60, 64, 67, 0.15);\n",
              "      fill: #174EA6;\n",
              "    }\n",
              "\n",
              "    [theme=dark] .colab-df-convert {\n",
              "      background-color: #3B4455;\n",
              "      fill: #D2E3FC;\n",
              "    }\n",
              "\n",
              "    [theme=dark] .colab-df-convert:hover {\n",
              "      background-color: #434B5C;\n",
              "      box-shadow: 0px 1px 3px 1px rgba(0, 0, 0, 0.15);\n",
              "      filter: drop-shadow(0px 1px 2px rgba(0, 0, 0, 0.3));\n",
              "      fill: #FFFFFF;\n",
              "    }\n",
              "  </style>\n",
              "\n",
              "      <script>\n",
              "        const buttonEl =\n",
              "          document.querySelector('#df-f4255981-7ccf-44e0-ae55-4265d0bdaba1 button.colab-df-convert');\n",
              "        buttonEl.style.display =\n",
              "          google.colab.kernel.accessAllowed ? 'block' : 'none';\n",
              "\n",
              "        async function convertToInteractive(key) {\n",
              "          const element = document.querySelector('#df-f4255981-7ccf-44e0-ae55-4265d0bdaba1');\n",
              "          const dataTable =\n",
              "            await google.colab.kernel.invokeFunction('convertToInteractive',\n",
              "                                                     [key], {});\n",
              "          if (!dataTable) return;\n",
              "\n",
              "          const docLinkHtml = 'Like what you see? Visit the ' +\n",
              "            '<a target=\"_blank\" href=https://colab.research.google.com/notebooks/data_table.ipynb>data table notebook</a>'\n",
              "            + ' to learn more about interactive tables.';\n",
              "          element.innerHTML = '';\n",
              "          dataTable['output_type'] = 'display_data';\n",
              "          await google.colab.output.renderOutput(dataTable, element);\n",
              "          const docLink = document.createElement('div');\n",
              "          docLink.innerHTML = docLinkHtml;\n",
              "          element.appendChild(docLink);\n",
              "        }\n",
              "      </script>\n",
              "    </div>\n",
              "  </div>\n",
              "  "
            ]
          },
          "metadata": {},
          "execution_count": 18
        }
      ]
    },
    {
      "cell_type": "code",
      "source": [
        "from sklearn.feature_selection import RFE\n",
        "from sklearn.linear_model import LinearRegression\n",
        "\n",
        "# Fitting the model on the tarining set and running RFE to select top 10 variables \n",
        "lm = LinearRegression()\n",
        "lm.fit(X_train, y_train)\n",
        "\n",
        "rfe = RFE(lm, step=20)             # running RFE\n",
        "rfe = rfe.fit(X_train, y_train)"
      ],
      "metadata": {
        "id": "YPv_AMx9Cuvw"
      },
      "execution_count": null,
      "outputs": []
    },
    {
      "cell_type": "code",
      "source": [
        "# Printing out RFE output\n",
        "list(zip(X_train.columns,rfe.support_,rfe.ranking_))"
      ],
      "metadata": {
        "colab": {
          "base_uri": "https://localhost:8080/"
        },
        "id": "fbcWdZnECSOP",
        "outputId": "2dbdd32c-bc96-4b16-edee-8d93a9e4a50b"
      },
      "execution_count": null,
      "outputs": [
        {
          "output_type": "execute_result",
          "data": {
            "text/plain": [
              "[('CRIM', False, 2),\n",
              " ('ZN', False, 2),\n",
              " ('INDUS', False, 2),\n",
              " ('CHAS', False, 2),\n",
              " ('NOX', True, 1),\n",
              " ('RM', True, 1),\n",
              " ('AGE', False, 2),\n",
              " ('DIS', True, 1),\n",
              " ('RAD', True, 1),\n",
              " ('TAX', False, 2),\n",
              " ('PTRATIO', True, 1),\n",
              " ('B', False, 2),\n",
              " ('LSTAT', True, 1)]"
            ]
          },
          "metadata": {},
          "execution_count": 20
        }
      ]
    },
    {
      "cell_type": "code",
      "source": [
        "# Selecting chosen top ranked variables \n",
        "col = X_train.columns[rfe.support_]\n",
        "col"
      ],
      "metadata": {
        "colab": {
          "base_uri": "https://localhost:8080/"
        },
        "id": "3jDS410ODv43",
        "outputId": "3e7aa137-2f4a-43c8-d0a5-7b13fb3df6e6"
      },
      "execution_count": null,
      "outputs": [
        {
          "output_type": "execute_result",
          "data": {
            "text/plain": [
              "Index(['NOX', 'RM', 'DIS', 'RAD', 'PTRATIO', 'LSTAT'], dtype='object')"
            ]
          },
          "metadata": {},
          "execution_count": 21
        }
      ]
    },
    {
      "cell_type": "code",
      "source": [
        "# Updating the training set to only contain selected columns \n",
        "X_train_rfe = X_train[col]"
      ],
      "metadata": {
        "id": "OJjRmjZpD0cS"
      },
      "execution_count": null,
      "outputs": []
    },
    {
      "cell_type": "code",
      "source": [
        "# adding constant column to X_train before fitting statsmodels Linear model\n",
        "X_train_rfe = sm.add_constant(X_train_rfe)"
      ],
      "metadata": {
        "colab": {
          "base_uri": "https://localhost:8080/"
        },
        "id": "igUTCuhdD4Nn",
        "outputId": "c40b3351-3e35-498f-9221-bf956479fab9"
      },
      "execution_count": null,
      "outputs": [
        {
          "output_type": "stream",
          "name": "stderr",
          "text": [
            "/usr/local/lib/python3.7/dist-packages/statsmodels/tsa/tsatools.py:117: FutureWarning: In a future version of pandas all arguments of concat except for the argument 'objs' will be keyword-only\n",
            "  x = pd.concat(x[::order], 1)\n"
          ]
        }
      ]
    },
    {
      "cell_type": "code",
      "source": [
        "# Fitting a linear model to the updating training set\n",
        "lm = sm.OLS(y_train,X_train_rfe).fit()   # Running the linear model"
      ],
      "metadata": {
        "id": "uaUDipuqD6J-"
      },
      "execution_count": null,
      "outputs": []
    },
    {
      "cell_type": "code",
      "source": [
        "# Printing out summary statistics\n",
        "lm.summary()"
      ],
      "metadata": {
        "colab": {
          "base_uri": "https://localhost:8080/",
          "height": 558
        },
        "id": "ok_8fDJFD9qN",
        "outputId": "768debde-b163-4a67-827b-c66fbadcc150"
      },
      "execution_count": null,
      "outputs": [
        {
          "output_type": "execute_result",
          "data": {
            "text/plain": [
              "<class 'statsmodels.iolib.summary.Summary'>\n",
              "\"\"\"\n",
              "                            OLS Regression Results                            \n",
              "==============================================================================\n",
              "Dep. Variable:                 target   R-squared:                       0.701\n",
              "Model:                            OLS   Adj. R-squared:                  0.697\n",
              "Method:                 Least Squares   F-statistic:                     155.4\n",
              "Date:                Mon, 21 Mar 2022   Prob (F-statistic):          6.60e-101\n",
              "Time:                        01:46:37   Log-Likelihood:                -1217.6\n",
              "No. Observations:                 404   AIC:                             2449.\n",
              "Df Residuals:                     397   BIC:                             2477.\n",
              "Df Model:                           6                                         \n",
              "Covariance Type:            nonrobust                                         \n",
              "==============================================================================\n",
              "                 coef    std err          t      P>|t|      [0.025      0.975]\n",
              "------------------------------------------------------------------------------\n",
              "const         30.8424      2.271     13.584      0.000      26.379      35.306\n",
              "NOX           -9.8026      1.941     -5.050      0.000     -13.619      -5.986\n",
              "RM            20.3638      2.467      8.255      0.000      15.514      25.213\n",
              "DIS          -11.2218      1.840     -6.100      0.000     -14.838      -7.605\n",
              "RAD            1.6013      0.960      1.669      0.096      -0.285       3.488\n",
              "PTRATIO      -10.7250      1.341     -7.995      0.000     -13.362      -8.088\n",
              "LSTAT        -20.6319      1.923    -10.727      0.000     -24.413     -16.851\n",
              "==============================================================================\n",
              "Omnibus:                      130.390   Durbin-Watson:                   2.089\n",
              "Prob(Omnibus):                  0.000   Jarque-Bera (JB):              479.777\n",
              "Skew:                           1.414   Prob(JB):                    6.57e-105\n",
              "Kurtosis:                       7.528   Cond. No.                         21.1\n",
              "==============================================================================\n",
              "\n",
              "Warnings:\n",
              "[1] Standard Errors assume that the covariance matrix of the errors is correctly specified.\n",
              "\"\"\""
            ],
            "text/html": [
              "<table class=\"simpletable\">\n",
              "<caption>OLS Regression Results</caption>\n",
              "<tr>\n",
              "  <th>Dep. Variable:</th>         <td>target</td>      <th>  R-squared:         </th> <td>   0.701</td> \n",
              "</tr>\n",
              "<tr>\n",
              "  <th>Model:</th>                   <td>OLS</td>       <th>  Adj. R-squared:    </th> <td>   0.697</td> \n",
              "</tr>\n",
              "<tr>\n",
              "  <th>Method:</th>             <td>Least Squares</td>  <th>  F-statistic:       </th> <td>   155.4</td> \n",
              "</tr>\n",
              "<tr>\n",
              "  <th>Date:</th>             <td>Mon, 21 Mar 2022</td> <th>  Prob (F-statistic):</th> <td>6.60e-101</td>\n",
              "</tr>\n",
              "<tr>\n",
              "  <th>Time:</th>                 <td>01:46:37</td>     <th>  Log-Likelihood:    </th> <td> -1217.6</td> \n",
              "</tr>\n",
              "<tr>\n",
              "  <th>No. Observations:</th>      <td>   404</td>      <th>  AIC:               </th> <td>   2449.</td> \n",
              "</tr>\n",
              "<tr>\n",
              "  <th>Df Residuals:</th>          <td>   397</td>      <th>  BIC:               </th> <td>   2477.</td> \n",
              "</tr>\n",
              "<tr>\n",
              "  <th>Df Model:</th>              <td>     6</td>      <th>                     </th>     <td> </td>    \n",
              "</tr>\n",
              "<tr>\n",
              "  <th>Covariance Type:</th>      <td>nonrobust</td>    <th>                     </th>     <td> </td>    \n",
              "</tr>\n",
              "</table>\n",
              "<table class=\"simpletable\">\n",
              "<tr>\n",
              "     <td></td>        <th>coef</th>     <th>std err</th>      <th>t</th>      <th>P>|t|</th>  <th>[0.025</th>    <th>0.975]</th>  \n",
              "</tr>\n",
              "<tr>\n",
              "  <th>const</th>   <td>   30.8424</td> <td>    2.271</td> <td>   13.584</td> <td> 0.000</td> <td>   26.379</td> <td>   35.306</td>\n",
              "</tr>\n",
              "<tr>\n",
              "  <th>NOX</th>     <td>   -9.8026</td> <td>    1.941</td> <td>   -5.050</td> <td> 0.000</td> <td>  -13.619</td> <td>   -5.986</td>\n",
              "</tr>\n",
              "<tr>\n",
              "  <th>RM</th>      <td>   20.3638</td> <td>    2.467</td> <td>    8.255</td> <td> 0.000</td> <td>   15.514</td> <td>   25.213</td>\n",
              "</tr>\n",
              "<tr>\n",
              "  <th>DIS</th>     <td>  -11.2218</td> <td>    1.840</td> <td>   -6.100</td> <td> 0.000</td> <td>  -14.838</td> <td>   -7.605</td>\n",
              "</tr>\n",
              "<tr>\n",
              "  <th>RAD</th>     <td>    1.6013</td> <td>    0.960</td> <td>    1.669</td> <td> 0.096</td> <td>   -0.285</td> <td>    3.488</td>\n",
              "</tr>\n",
              "<tr>\n",
              "  <th>PTRATIO</th> <td>  -10.7250</td> <td>    1.341</td> <td>   -7.995</td> <td> 0.000</td> <td>  -13.362</td> <td>   -8.088</td>\n",
              "</tr>\n",
              "<tr>\n",
              "  <th>LSTAT</th>   <td>  -20.6319</td> <td>    1.923</td> <td>  -10.727</td> <td> 0.000</td> <td>  -24.413</td> <td>  -16.851</td>\n",
              "</tr>\n",
              "</table>\n",
              "<table class=\"simpletable\">\n",
              "<tr>\n",
              "  <th>Omnibus:</th>       <td>130.390</td> <th>  Durbin-Watson:     </th> <td>   2.089</td> \n",
              "</tr>\n",
              "<tr>\n",
              "  <th>Prob(Omnibus):</th> <td> 0.000</td>  <th>  Jarque-Bera (JB):  </th> <td> 479.777</td> \n",
              "</tr>\n",
              "<tr>\n",
              "  <th>Skew:</th>          <td> 1.414</td>  <th>  Prob(JB):          </th> <td>6.57e-105</td>\n",
              "</tr>\n",
              "<tr>\n",
              "  <th>Kurtosis:</th>      <td> 7.528</td>  <th>  Cond. No.          </th> <td>    21.1</td> \n",
              "</tr>\n",
              "</table><br/><br/>Warnings:<br/>[1] Standard Errors assume that the covariance matrix of the errors is correctly specified."
            ]
          },
          "metadata": {},
          "execution_count": 25
        }
      ]
    },
    {
      "cell_type": "code",
      "source": [
        "# Checking VIF to detect Multicollinearity within independent variables \n",
        "from statsmodels.stats.outliers_influence import variance_inflation_factor\n",
        "\n",
        "vif = pd.DataFrame()\n",
        "X = X_train_rfe\n",
        "vif['Features'] = X.columns\n",
        "vif['VIF'] = [variance_inflation_factor(X.values, i) for i in range(X.shape[1])]\n",
        "vif['VIF'] = round(vif['VIF'], 2)\n",
        "vif = vif.sort_values(by = \"VIF\", ascending = False)\n",
        "vif"
      ],
      "metadata": {
        "colab": {
          "base_uri": "https://localhost:8080/",
          "height": 269
        },
        "id": "iFtKlrULD_Ft",
        "outputId": "d448e3a9-f15d-400b-8fec-485808126f40"
      },
      "execution_count": null,
      "outputs": [
        {
          "output_type": "execute_result",
          "data": {
            "text/plain": [
              "  Features    VIF\n",
              "0    const  84.28\n",
              "1      NOX   3.50\n",
              "3      DIS   2.52\n",
              "6    LSTAT   2.43\n",
              "4      RAD   2.11\n",
              "2       RM   1.81\n",
              "5  PTRATIO   1.48"
            ],
            "text/html": [
              "\n",
              "  <div id=\"df-7d48eb1e-25ec-4edd-8e54-a8753c03c76e\">\n",
              "    <div class=\"colab-df-container\">\n",
              "      <div>\n",
              "<style scoped>\n",
              "    .dataframe tbody tr th:only-of-type {\n",
              "        vertical-align: middle;\n",
              "    }\n",
              "\n",
              "    .dataframe tbody tr th {\n",
              "        vertical-align: top;\n",
              "    }\n",
              "\n",
              "    .dataframe thead th {\n",
              "        text-align: right;\n",
              "    }\n",
              "</style>\n",
              "<table border=\"1\" class=\"dataframe\">\n",
              "  <thead>\n",
              "    <tr style=\"text-align: right;\">\n",
              "      <th></th>\n",
              "      <th>Features</th>\n",
              "      <th>VIF</th>\n",
              "    </tr>\n",
              "  </thead>\n",
              "  <tbody>\n",
              "    <tr>\n",
              "      <th>0</th>\n",
              "      <td>const</td>\n",
              "      <td>84.28</td>\n",
              "    </tr>\n",
              "    <tr>\n",
              "      <th>1</th>\n",
              "      <td>NOX</td>\n",
              "      <td>3.50</td>\n",
              "    </tr>\n",
              "    <tr>\n",
              "      <th>3</th>\n",
              "      <td>DIS</td>\n",
              "      <td>2.52</td>\n",
              "    </tr>\n",
              "    <tr>\n",
              "      <th>6</th>\n",
              "      <td>LSTAT</td>\n",
              "      <td>2.43</td>\n",
              "    </tr>\n",
              "    <tr>\n",
              "      <th>4</th>\n",
              "      <td>RAD</td>\n",
              "      <td>2.11</td>\n",
              "    </tr>\n",
              "    <tr>\n",
              "      <th>2</th>\n",
              "      <td>RM</td>\n",
              "      <td>1.81</td>\n",
              "    </tr>\n",
              "    <tr>\n",
              "      <th>5</th>\n",
              "      <td>PTRATIO</td>\n",
              "      <td>1.48</td>\n",
              "    </tr>\n",
              "  </tbody>\n",
              "</table>\n",
              "</div>\n",
              "      <button class=\"colab-df-convert\" onclick=\"convertToInteractive('df-7d48eb1e-25ec-4edd-8e54-a8753c03c76e')\"\n",
              "              title=\"Convert this dataframe to an interactive table.\"\n",
              "              style=\"display:none;\">\n",
              "        \n",
              "  <svg xmlns=\"http://www.w3.org/2000/svg\" height=\"24px\"viewBox=\"0 0 24 24\"\n",
              "       width=\"24px\">\n",
              "    <path d=\"M0 0h24v24H0V0z\" fill=\"none\"/>\n",
              "    <path d=\"M18.56 5.44l.94 2.06.94-2.06 2.06-.94-2.06-.94-.94-2.06-.94 2.06-2.06.94zm-11 1L8.5 8.5l.94-2.06 2.06-.94-2.06-.94L8.5 2.5l-.94 2.06-2.06.94zm10 10l.94 2.06.94-2.06 2.06-.94-2.06-.94-.94-2.06-.94 2.06-2.06.94z\"/><path d=\"M17.41 7.96l-1.37-1.37c-.4-.4-.92-.59-1.43-.59-.52 0-1.04.2-1.43.59L10.3 9.45l-7.72 7.72c-.78.78-.78 2.05 0 2.83L4 21.41c.39.39.9.59 1.41.59.51 0 1.02-.2 1.41-.59l7.78-7.78 2.81-2.81c.8-.78.8-2.07 0-2.86zM5.41 20L4 18.59l7.72-7.72 1.47 1.35L5.41 20z\"/>\n",
              "  </svg>\n",
              "      </button>\n",
              "      \n",
              "  <style>\n",
              "    .colab-df-container {\n",
              "      display:flex;\n",
              "      flex-wrap:wrap;\n",
              "      gap: 12px;\n",
              "    }\n",
              "\n",
              "    .colab-df-convert {\n",
              "      background-color: #E8F0FE;\n",
              "      border: none;\n",
              "      border-radius: 50%;\n",
              "      cursor: pointer;\n",
              "      display: none;\n",
              "      fill: #1967D2;\n",
              "      height: 32px;\n",
              "      padding: 0 0 0 0;\n",
              "      width: 32px;\n",
              "    }\n",
              "\n",
              "    .colab-df-convert:hover {\n",
              "      background-color: #E2EBFA;\n",
              "      box-shadow: 0px 1px 2px rgba(60, 64, 67, 0.3), 0px 1px 3px 1px rgba(60, 64, 67, 0.15);\n",
              "      fill: #174EA6;\n",
              "    }\n",
              "\n",
              "    [theme=dark] .colab-df-convert {\n",
              "      background-color: #3B4455;\n",
              "      fill: #D2E3FC;\n",
              "    }\n",
              "\n",
              "    [theme=dark] .colab-df-convert:hover {\n",
              "      background-color: #434B5C;\n",
              "      box-shadow: 0px 1px 3px 1px rgba(0, 0, 0, 0.15);\n",
              "      filter: drop-shadow(0px 1px 2px rgba(0, 0, 0, 0.3));\n",
              "      fill: #FFFFFF;\n",
              "    }\n",
              "  </style>\n",
              "\n",
              "      <script>\n",
              "        const buttonEl =\n",
              "          document.querySelector('#df-7d48eb1e-25ec-4edd-8e54-a8753c03c76e button.colab-df-convert');\n",
              "        buttonEl.style.display =\n",
              "          google.colab.kernel.accessAllowed ? 'block' : 'none';\n",
              "\n",
              "        async function convertToInteractive(key) {\n",
              "          const element = document.querySelector('#df-7d48eb1e-25ec-4edd-8e54-a8753c03c76e');\n",
              "          const dataTable =\n",
              "            await google.colab.kernel.invokeFunction('convertToInteractive',\n",
              "                                                     [key], {});\n",
              "          if (!dataTable) return;\n",
              "\n",
              "          const docLinkHtml = 'Like what you see? Visit the ' +\n",
              "            '<a target=\"_blank\" href=https://colab.research.google.com/notebooks/data_table.ipynb>data table notebook</a>'\n",
              "            + ' to learn more about interactive tables.';\n",
              "          element.innerHTML = '';\n",
              "          dataTable['output_type'] = 'display_data';\n",
              "          await google.colab.output.renderOutput(dataTable, element);\n",
              "          const docLink = document.createElement('div');\n",
              "          docLink.innerHTML = docLinkHtml;\n",
              "          element.appendChild(docLink);\n",
              "        }\n",
              "      </script>\n",
              "    </div>\n",
              "  </div>\n",
              "  "
            ]
          },
          "metadata": {},
          "execution_count": 26
        }
      ]
    },
    {
      "cell_type": "code",
      "source": [
        "# Removing Columns with P-value > 0.05 and Removing Spring due to high VIF value (Multicollinear)\n",
        "X_train_rfe_2 = X_train_rfe"
      ],
      "metadata": {
        "id": "YmTF7QduEmLP"
      },
      "execution_count": null,
      "outputs": []
    },
    {
      "cell_type": "code",
      "source": [
        "# Training a new model\n",
        "lm_new = sm.OLS(y_train,X_train_rfe_2).fit()\n",
        "lm_new.summary()"
      ],
      "metadata": {
        "colab": {
          "base_uri": "https://localhost:8080/",
          "height": 558
        },
        "id": "np6kQ3ITFLYp",
        "outputId": "b358f26c-9f0e-49cd-9f5a-ccc6b5538427"
      },
      "execution_count": null,
      "outputs": [
        {
          "output_type": "execute_result",
          "data": {
            "text/plain": [
              "<class 'statsmodels.iolib.summary.Summary'>\n",
              "\"\"\"\n",
              "                            OLS Regression Results                            \n",
              "==============================================================================\n",
              "Dep. Variable:                 target   R-squared:                       0.701\n",
              "Model:                            OLS   Adj. R-squared:                  0.697\n",
              "Method:                 Least Squares   F-statistic:                     155.4\n",
              "Date:                Mon, 21 Mar 2022   Prob (F-statistic):          6.60e-101\n",
              "Time:                        01:46:37   Log-Likelihood:                -1217.6\n",
              "No. Observations:                 404   AIC:                             2449.\n",
              "Df Residuals:                     397   BIC:                             2477.\n",
              "Df Model:                           6                                         \n",
              "Covariance Type:            nonrobust                                         \n",
              "==============================================================================\n",
              "                 coef    std err          t      P>|t|      [0.025      0.975]\n",
              "------------------------------------------------------------------------------\n",
              "const         30.8424      2.271     13.584      0.000      26.379      35.306\n",
              "NOX           -9.8026      1.941     -5.050      0.000     -13.619      -5.986\n",
              "RM            20.3638      2.467      8.255      0.000      15.514      25.213\n",
              "DIS          -11.2218      1.840     -6.100      0.000     -14.838      -7.605\n",
              "RAD            1.6013      0.960      1.669      0.096      -0.285       3.488\n",
              "PTRATIO      -10.7250      1.341     -7.995      0.000     -13.362      -8.088\n",
              "LSTAT        -20.6319      1.923    -10.727      0.000     -24.413     -16.851\n",
              "==============================================================================\n",
              "Omnibus:                      130.390   Durbin-Watson:                   2.089\n",
              "Prob(Omnibus):                  0.000   Jarque-Bera (JB):              479.777\n",
              "Skew:                           1.414   Prob(JB):                    6.57e-105\n",
              "Kurtosis:                       7.528   Cond. No.                         21.1\n",
              "==============================================================================\n",
              "\n",
              "Warnings:\n",
              "[1] Standard Errors assume that the covariance matrix of the errors is correctly specified.\n",
              "\"\"\""
            ],
            "text/html": [
              "<table class=\"simpletable\">\n",
              "<caption>OLS Regression Results</caption>\n",
              "<tr>\n",
              "  <th>Dep. Variable:</th>         <td>target</td>      <th>  R-squared:         </th> <td>   0.701</td> \n",
              "</tr>\n",
              "<tr>\n",
              "  <th>Model:</th>                   <td>OLS</td>       <th>  Adj. R-squared:    </th> <td>   0.697</td> \n",
              "</tr>\n",
              "<tr>\n",
              "  <th>Method:</th>             <td>Least Squares</td>  <th>  F-statistic:       </th> <td>   155.4</td> \n",
              "</tr>\n",
              "<tr>\n",
              "  <th>Date:</th>             <td>Mon, 21 Mar 2022</td> <th>  Prob (F-statistic):</th> <td>6.60e-101</td>\n",
              "</tr>\n",
              "<tr>\n",
              "  <th>Time:</th>                 <td>01:46:37</td>     <th>  Log-Likelihood:    </th> <td> -1217.6</td> \n",
              "</tr>\n",
              "<tr>\n",
              "  <th>No. Observations:</th>      <td>   404</td>      <th>  AIC:               </th> <td>   2449.</td> \n",
              "</tr>\n",
              "<tr>\n",
              "  <th>Df Residuals:</th>          <td>   397</td>      <th>  BIC:               </th> <td>   2477.</td> \n",
              "</tr>\n",
              "<tr>\n",
              "  <th>Df Model:</th>              <td>     6</td>      <th>                     </th>     <td> </td>    \n",
              "</tr>\n",
              "<tr>\n",
              "  <th>Covariance Type:</th>      <td>nonrobust</td>    <th>                     </th>     <td> </td>    \n",
              "</tr>\n",
              "</table>\n",
              "<table class=\"simpletable\">\n",
              "<tr>\n",
              "     <td></td>        <th>coef</th>     <th>std err</th>      <th>t</th>      <th>P>|t|</th>  <th>[0.025</th>    <th>0.975]</th>  \n",
              "</tr>\n",
              "<tr>\n",
              "  <th>const</th>   <td>   30.8424</td> <td>    2.271</td> <td>   13.584</td> <td> 0.000</td> <td>   26.379</td> <td>   35.306</td>\n",
              "</tr>\n",
              "<tr>\n",
              "  <th>NOX</th>     <td>   -9.8026</td> <td>    1.941</td> <td>   -5.050</td> <td> 0.000</td> <td>  -13.619</td> <td>   -5.986</td>\n",
              "</tr>\n",
              "<tr>\n",
              "  <th>RM</th>      <td>   20.3638</td> <td>    2.467</td> <td>    8.255</td> <td> 0.000</td> <td>   15.514</td> <td>   25.213</td>\n",
              "</tr>\n",
              "<tr>\n",
              "  <th>DIS</th>     <td>  -11.2218</td> <td>    1.840</td> <td>   -6.100</td> <td> 0.000</td> <td>  -14.838</td> <td>   -7.605</td>\n",
              "</tr>\n",
              "<tr>\n",
              "  <th>RAD</th>     <td>    1.6013</td> <td>    0.960</td> <td>    1.669</td> <td> 0.096</td> <td>   -0.285</td> <td>    3.488</td>\n",
              "</tr>\n",
              "<tr>\n",
              "  <th>PTRATIO</th> <td>  -10.7250</td> <td>    1.341</td> <td>   -7.995</td> <td> 0.000</td> <td>  -13.362</td> <td>   -8.088</td>\n",
              "</tr>\n",
              "<tr>\n",
              "  <th>LSTAT</th>   <td>  -20.6319</td> <td>    1.923</td> <td>  -10.727</td> <td> 0.000</td> <td>  -24.413</td> <td>  -16.851</td>\n",
              "</tr>\n",
              "</table>\n",
              "<table class=\"simpletable\">\n",
              "<tr>\n",
              "  <th>Omnibus:</th>       <td>130.390</td> <th>  Durbin-Watson:     </th> <td>   2.089</td> \n",
              "</tr>\n",
              "<tr>\n",
              "  <th>Prob(Omnibus):</th> <td> 0.000</td>  <th>  Jarque-Bera (JB):  </th> <td> 479.777</td> \n",
              "</tr>\n",
              "<tr>\n",
              "  <th>Skew:</th>          <td> 1.414</td>  <th>  Prob(JB):          </th> <td>6.57e-105</td>\n",
              "</tr>\n",
              "<tr>\n",
              "  <th>Kurtosis:</th>      <td> 7.528</td>  <th>  Cond. No.          </th> <td>    21.1</td> \n",
              "</tr>\n",
              "</table><br/><br/>Warnings:<br/>[1] Standard Errors assume that the covariance matrix of the errors is correctly specified."
            ]
          },
          "metadata": {},
          "execution_count": 28
        }
      ]
    },
    {
      "cell_type": "code",
      "source": [
        "# Checking VIF to detect Multicollinearity within independent variables \n",
        "vif = pd.DataFrame()\n",
        "X = X_train_rfe_2\n",
        "vif['Features'] = X.columns\n",
        "vif['VIF'] = [variance_inflation_factor(X.values, i) for i in range(X.shape[1])]\n",
        "vif['VIF'] = round(vif['VIF'], 2)\n",
        "vif = vif.sort_values(by = \"VIF\", ascending = False)\n",
        "vif"
      ],
      "metadata": {
        "colab": {
          "base_uri": "https://localhost:8080/",
          "height": 269
        },
        "id": "yDMCg8LrFSj8",
        "outputId": "cc986f0b-6cf9-4e88-dabe-a4d97088ec34"
      },
      "execution_count": null,
      "outputs": [
        {
          "output_type": "execute_result",
          "data": {
            "text/plain": [
              "  Features    VIF\n",
              "0    const  84.28\n",
              "1      NOX   3.50\n",
              "3      DIS   2.52\n",
              "6    LSTAT   2.43\n",
              "4      RAD   2.11\n",
              "2       RM   1.81\n",
              "5  PTRATIO   1.48"
            ],
            "text/html": [
              "\n",
              "  <div id=\"df-857d8ec1-8dba-4b12-a62f-db2f87a27205\">\n",
              "    <div class=\"colab-df-container\">\n",
              "      <div>\n",
              "<style scoped>\n",
              "    .dataframe tbody tr th:only-of-type {\n",
              "        vertical-align: middle;\n",
              "    }\n",
              "\n",
              "    .dataframe tbody tr th {\n",
              "        vertical-align: top;\n",
              "    }\n",
              "\n",
              "    .dataframe thead th {\n",
              "        text-align: right;\n",
              "    }\n",
              "</style>\n",
              "<table border=\"1\" class=\"dataframe\">\n",
              "  <thead>\n",
              "    <tr style=\"text-align: right;\">\n",
              "      <th></th>\n",
              "      <th>Features</th>\n",
              "      <th>VIF</th>\n",
              "    </tr>\n",
              "  </thead>\n",
              "  <tbody>\n",
              "    <tr>\n",
              "      <th>0</th>\n",
              "      <td>const</td>\n",
              "      <td>84.28</td>\n",
              "    </tr>\n",
              "    <tr>\n",
              "      <th>1</th>\n",
              "      <td>NOX</td>\n",
              "      <td>3.50</td>\n",
              "    </tr>\n",
              "    <tr>\n",
              "      <th>3</th>\n",
              "      <td>DIS</td>\n",
              "      <td>2.52</td>\n",
              "    </tr>\n",
              "    <tr>\n",
              "      <th>6</th>\n",
              "      <td>LSTAT</td>\n",
              "      <td>2.43</td>\n",
              "    </tr>\n",
              "    <tr>\n",
              "      <th>4</th>\n",
              "      <td>RAD</td>\n",
              "      <td>2.11</td>\n",
              "    </tr>\n",
              "    <tr>\n",
              "      <th>2</th>\n",
              "      <td>RM</td>\n",
              "      <td>1.81</td>\n",
              "    </tr>\n",
              "    <tr>\n",
              "      <th>5</th>\n",
              "      <td>PTRATIO</td>\n",
              "      <td>1.48</td>\n",
              "    </tr>\n",
              "  </tbody>\n",
              "</table>\n",
              "</div>\n",
              "      <button class=\"colab-df-convert\" onclick=\"convertToInteractive('df-857d8ec1-8dba-4b12-a62f-db2f87a27205')\"\n",
              "              title=\"Convert this dataframe to an interactive table.\"\n",
              "              style=\"display:none;\">\n",
              "        \n",
              "  <svg xmlns=\"http://www.w3.org/2000/svg\" height=\"24px\"viewBox=\"0 0 24 24\"\n",
              "       width=\"24px\">\n",
              "    <path d=\"M0 0h24v24H0V0z\" fill=\"none\"/>\n",
              "    <path d=\"M18.56 5.44l.94 2.06.94-2.06 2.06-.94-2.06-.94-.94-2.06-.94 2.06-2.06.94zm-11 1L8.5 8.5l.94-2.06 2.06-.94-2.06-.94L8.5 2.5l-.94 2.06-2.06.94zm10 10l.94 2.06.94-2.06 2.06-.94-2.06-.94-.94-2.06-.94 2.06-2.06.94z\"/><path d=\"M17.41 7.96l-1.37-1.37c-.4-.4-.92-.59-1.43-.59-.52 0-1.04.2-1.43.59L10.3 9.45l-7.72 7.72c-.78.78-.78 2.05 0 2.83L4 21.41c.39.39.9.59 1.41.59.51 0 1.02-.2 1.41-.59l7.78-7.78 2.81-2.81c.8-.78.8-2.07 0-2.86zM5.41 20L4 18.59l7.72-7.72 1.47 1.35L5.41 20z\"/>\n",
              "  </svg>\n",
              "      </button>\n",
              "      \n",
              "  <style>\n",
              "    .colab-df-container {\n",
              "      display:flex;\n",
              "      flex-wrap:wrap;\n",
              "      gap: 12px;\n",
              "    }\n",
              "\n",
              "    .colab-df-convert {\n",
              "      background-color: #E8F0FE;\n",
              "      border: none;\n",
              "      border-radius: 50%;\n",
              "      cursor: pointer;\n",
              "      display: none;\n",
              "      fill: #1967D2;\n",
              "      height: 32px;\n",
              "      padding: 0 0 0 0;\n",
              "      width: 32px;\n",
              "    }\n",
              "\n",
              "    .colab-df-convert:hover {\n",
              "      background-color: #E2EBFA;\n",
              "      box-shadow: 0px 1px 2px rgba(60, 64, 67, 0.3), 0px 1px 3px 1px rgba(60, 64, 67, 0.15);\n",
              "      fill: #174EA6;\n",
              "    }\n",
              "\n",
              "    [theme=dark] .colab-df-convert {\n",
              "      background-color: #3B4455;\n",
              "      fill: #D2E3FC;\n",
              "    }\n",
              "\n",
              "    [theme=dark] .colab-df-convert:hover {\n",
              "      background-color: #434B5C;\n",
              "      box-shadow: 0px 1px 3px 1px rgba(0, 0, 0, 0.15);\n",
              "      filter: drop-shadow(0px 1px 2px rgba(0, 0, 0, 0.3));\n",
              "      fill: #FFFFFF;\n",
              "    }\n",
              "  </style>\n",
              "\n",
              "      <script>\n",
              "        const buttonEl =\n",
              "          document.querySelector('#df-857d8ec1-8dba-4b12-a62f-db2f87a27205 button.colab-df-convert');\n",
              "        buttonEl.style.display =\n",
              "          google.colab.kernel.accessAllowed ? 'block' : 'none';\n",
              "\n",
              "        async function convertToInteractive(key) {\n",
              "          const element = document.querySelector('#df-857d8ec1-8dba-4b12-a62f-db2f87a27205');\n",
              "          const dataTable =\n",
              "            await google.colab.kernel.invokeFunction('convertToInteractive',\n",
              "                                                     [key], {});\n",
              "          if (!dataTable) return;\n",
              "\n",
              "          const docLinkHtml = 'Like what you see? Visit the ' +\n",
              "            '<a target=\"_blank\" href=https://colab.research.google.com/notebooks/data_table.ipynb>data table notebook</a>'\n",
              "            + ' to learn more about interactive tables.';\n",
              "          element.innerHTML = '';\n",
              "          dataTable['output_type'] = 'display_data';\n",
              "          await google.colab.output.renderOutput(dataTable, element);\n",
              "          const docLink = document.createElement('div');\n",
              "          docLink.innerHTML = docLinkHtml;\n",
              "          element.appendChild(docLink);\n",
              "        }\n",
              "      </script>\n",
              "    </div>\n",
              "  </div>\n",
              "  "
            ]
          },
          "metadata": {},
          "execution_count": 29
        }
      ]
    },
    {
      "cell_type": "code",
      "source": [
        "# Finding the top 3 features contributing significantly towards explaining \n",
        "# the demand of the shared bikes\n",
        "lm_new.params"
      ],
      "metadata": {
        "colab": {
          "base_uri": "https://localhost:8080/"
        },
        "id": "kr_JJNphFbKk",
        "outputId": "eca94cb0-48e8-4160-f93b-524ef7dad21d"
      },
      "execution_count": null,
      "outputs": [
        {
          "output_type": "execute_result",
          "data": {
            "text/plain": [
              "const      30.842439\n",
              "NOX        -9.802575\n",
              "RM         20.363800\n",
              "DIS       -11.221829\n",
              "RAD         1.601283\n",
              "PTRATIO   -10.725024\n",
              "LSTAT     -20.631942\n",
              "dtype: float64"
            ]
          },
          "metadata": {},
          "execution_count": 30
        }
      ]
    },
    {
      "cell_type": "code",
      "source": [
        ""
      ],
      "metadata": {
        "id": "BRxI9B9fFg1l"
      },
      "execution_count": null,
      "outputs": []
    },
    {
      "cell_type": "markdown",
      "source": [
        "**Residual Analysis**"
      ],
      "metadata": {
        "id": "2g8gLzEVGFaU"
      }
    },
    {
      "cell_type": "code",
      "source": [
        "# Starting residual analysis \n",
        "y_train_pred = lm_new.predict(X_train_rfe_2)"
      ],
      "metadata": {
        "id": "qoW5npW0GLJt"
      },
      "execution_count": null,
      "outputs": []
    },
    {
      "cell_type": "code",
      "source": [
        "# Plotting the residuals \n",
        "fig = plt.figure(figsize=[10,5])\n",
        "sns.distplot((y_train - y_train_pred), bins = 20)\n",
        "fig.suptitle('Error Terms', fontsize = 20)                  # Plot heading \n",
        "plt.xlabel('Errors', fontsize = 18); "
      ],
      "metadata": {
        "colab": {
          "base_uri": "https://localhost:8080/",
          "height": 435
        },
        "id": "pi6pSu5GGHlt",
        "outputId": "0a5aaea6-9834-400f-e98e-2be79f8f40f0"
      },
      "execution_count": null,
      "outputs": [
        {
          "output_type": "stream",
          "name": "stderr",
          "text": [
            "/usr/local/lib/python3.7/dist-packages/seaborn/distributions.py:2619: FutureWarning: `distplot` is a deprecated function and will be removed in a future version. Please adapt your code to use either `displot` (a figure-level function with similar flexibility) or `histplot` (an axes-level function for histograms).\n",
            "  warnings.warn(msg, FutureWarning)\n"
          ]
        },
        {
          "output_type": "display_data",
          "data": {
            "text/plain": [
              "<Figure size 720x360 with 1 Axes>"
            ],
            "image/png": "[encoded data removed]"
          },
          "metadata": {
            "needs_background": "light"
          }
        }
      ]
    },
    {
      "cell_type": "markdown",
      "source": [
        "*   The error terms are centrally distributed\n",
        "*   The average of error terms is zero\n",
        "\n"
      ],
      "metadata": {
        "id": "7TKP9zBwHQEb"
      }
    },
    {
      "cell_type": "code",
      "source": [
        "# Transforming the test set\n",
        "num_vars = ['CRIM', 'ZN', 'INDUS', 'NOX', 'RM', 'AGE', 'DIS', 'RAD', 'TAX',\n",
        "       'PTRATIO', 'B', 'LSTAT']\n",
        "\n",
        "X_test[num_vars] = scaler.transform(X_test[num_vars])\n",
        "\n",
        "X_test.head()"
      ],
      "metadata": {
        "colab": {
          "base_uri": "https://localhost:8080/",
          "height": 270
        },
        "id": "cWPpvbhFGJLd",
        "outputId": "ace49626-0ec8-4ecb-f8a0-23a934420fe3"
      },
      "execution_count": null,
      "outputs": [
        {
          "output_type": "execute_result",
          "data": {
            "text/plain": [
              "         CRIM   ZN     INDUS  CHAS       NOX        RM       AGE       DIS  \\\n",
              "198  0.000427  0.8  0.038856   0.0  0.039095  0.711439  0.343617  0.644984   \n",
              "229  0.005922  0.0  0.210411   0.0  0.244856  0.573098  0.163830  0.234377   \n",
              "502  0.000530  0.0  0.420455   0.0  0.386831  0.490324  0.752128  0.120858   \n",
              "31   0.018339  0.0  0.281525   0.0  0.314815  0.481127  1.000000  0.317868   \n",
              "315  0.003363  0.0  0.346041   0.0  0.327160  0.410807  0.762766  0.293862   \n",
              "\n",
              "          RAD       TAX   PTRATIO         B     LSTAT  \n",
              "198  0.043478  0.269598  0.000000  0.988149  0.134934  \n",
              "229  0.304348  0.227533  0.510638  0.958243  0.056015  \n",
              "502  0.000000  0.162524  0.893617  1.000000  0.202815  \n",
              "31   0.130435  0.227533  0.893617  0.949140  0.312086  \n",
              "315  0.130435  0.221797  0.617021  0.998790  0.269592  "
            ],
            "text/html": [
              "\n",
              "  <div id=\"df-8ca67932-1ab4-4d72-bac4-541a0b417a57\">\n",
              "    <div class=\"colab-df-container\">\n",
              "      <div>\n",
              "<style scoped>\n",
              "    .dataframe tbody tr th:only-of-type {\n",
              "        vertical-align: middle;\n",
              "    }\n",
              "\n",
              "    .dataframe tbody tr th {\n",
              "        vertical-align: top;\n",
              "    }\n",
              "\n",
              "    .dataframe thead th {\n",
              "        text-align: right;\n",
              "    }\n",
              "</style>\n",
              "<table border=\"1\" class=\"dataframe\">\n",
              "  <thead>\n",
              "    <tr style=\"text-align: right;\">\n",
              "      <th></th>\n",
              "      <th>CRIM</th>\n",
              "      <th>ZN</th>\n",
              "      <th>INDUS</th>\n",
              "      <th>CHAS</th>\n",
              "      <th>NOX</th>\n",
              "      <th>RM</th>\n",
              "      <th>AGE</th>\n",
              "      <th>DIS</th>\n",
              "      <th>RAD</th>\n",
              "      <th>TAX</th>\n",
              "      <th>PTRATIO</th>\n",
              "      <th>B</th>\n",
              "      <th>LSTAT</th>\n",
              "    </tr>\n",
              "  </thead>\n",
              "  <tbody>\n",
              "    <tr>\n",
              "      <th>198</th>\n",
              "      <td>0.000427</td>\n",
              "      <td>0.8</td>\n",
              "      <td>0.038856</td>\n",
              "      <td>0.0</td>\n",
              "      <td>0.039095</td>\n",
              "      <td>0.711439</td>\n",
              "      <td>0.343617</td>\n",
              "      <td>0.644984</td>\n",
              "      <td>0.043478</td>\n",
              "      <td>0.269598</td>\n",
              "      <td>0.000000</td>\n",
              "      <td>0.988149</td>\n",
              "      <td>0.134934</td>\n",
              "    </tr>\n",
              "    <tr>\n",
              "      <th>229</th>\n",
              "      <td>0.005922</td>\n",
              "      <td>0.0</td>\n",
              "      <td>0.210411</td>\n",
              "      <td>0.0</td>\n",
              "      <td>0.244856</td>\n",
              "      <td>0.573098</td>\n",
              "      <td>0.163830</td>\n",
              "      <td>0.234377</td>\n",
              "      <td>0.304348</td>\n",
              "      <td>0.227533</td>\n",
              "      <td>0.510638</td>\n",
              "      <td>0.958243</td>\n",
              "      <td>0.056015</td>\n",
              "    </tr>\n",
              "    <tr>\n",
              "      <th>502</th>\n",
              "      <td>0.000530</td>\n",
              "      <td>0.0</td>\n",
              "      <td>0.420455</td>\n",
              "      <td>0.0</td>\n",
              "      <td>0.386831</td>\n",
              "      <td>0.490324</td>\n",
              "      <td>0.752128</td>\n",
              "      <td>0.120858</td>\n",
              "      <td>0.000000</td>\n",
              "      <td>0.162524</td>\n",
              "      <td>0.893617</td>\n",
              "      <td>1.000000</td>\n",
              "      <td>0.202815</td>\n",
              "    </tr>\n",
              "    <tr>\n",
              "      <th>31</th>\n",
              "      <td>0.018339</td>\n",
              "      <td>0.0</td>\n",
              "      <td>0.281525</td>\n",
              "      <td>0.0</td>\n",
              "      <td>0.314815</td>\n",
              "      <td>0.481127</td>\n",
              "      <td>1.000000</td>\n",
              "      <td>0.317868</td>\n",
              "      <td>0.130435</td>\n",
              "      <td>0.227533</td>\n",
              "      <td>0.893617</td>\n",
              "      <td>0.949140</td>\n",
              "      <td>0.312086</td>\n",
              "    </tr>\n",
              "    <tr>\n",
              "      <th>315</th>\n",
              "      <td>0.003363</td>\n",
              "      <td>0.0</td>\n",
              "      <td>0.346041</td>\n",
              "      <td>0.0</td>\n",
              "      <td>0.327160</td>\n",
              "      <td>0.410807</td>\n",
              "      <td>0.762766</td>\n",
              "      <td>0.293862</td>\n",
              "      <td>0.130435</td>\n",
              "      <td>0.221797</td>\n",
              "      <td>0.617021</td>\n",
              "      <td>0.998790</td>\n",
              "      <td>0.269592</td>\n",
              "    </tr>\n",
              "  </tbody>\n",
              "</table>\n",
              "</div>\n",
              "      <button class=\"colab-df-convert\" onclick=\"convertToInteractive('df-8ca67932-1ab4-4d72-bac4-541a0b417a57')\"\n",
              "              title=\"Convert this dataframe to an interactive table.\"\n",
              "              style=\"display:none;\">\n",
              "        \n",
              "  <svg xmlns=\"http://www.w3.org/2000/svg\" height=\"24px\"viewBox=\"0 0 24 24\"\n",
              "       width=\"24px\">\n",
              "    <path d=\"M0 0h24v24H0V0z\" fill=\"none\"/>\n",
              "    <path d=\"M18.56 5.44l.94 2.06.94-2.06 2.06-.94-2.06-.94-.94-2.06-.94 2.06-2.06.94zm-11 1L8.5 8.5l.94-2.06 2.06-.94-2.06-.94L8.5 2.5l-.94 2.06-2.06.94zm10 10l.94 2.06.94-2.06 2.06-.94-2.06-.94-.94-2.06-.94 2.06-2.06.94z\"/><path d=\"M17.41 7.96l-1.37-1.37c-.4-.4-.92-.59-1.43-.59-.52 0-1.04.2-1.43.59L10.3 9.45l-7.72 7.72c-.78.78-.78 2.05 0 2.83L4 21.41c.39.39.9.59 1.41.59.51 0 1.02-.2 1.41-.59l7.78-7.78 2.81-2.81c.8-.78.8-2.07 0-2.86zM5.41 20L4 18.59l7.72-7.72 1.47 1.35L5.41 20z\"/>\n",
              "  </svg>\n",
              "      </button>\n",
              "      \n",
              "  <style>\n",
              "    .colab-df-container {\n",
              "      display:flex;\n",
              "      flex-wrap:wrap;\n",
              "      gap: 12px;\n",
              "    }\n",
              "\n",
              "    .colab-df-convert {\n",
              "      background-color: #E8F0FE;\n",
              "      border: none;\n",
              "      border-radius: 50%;\n",
              "      cursor: pointer;\n",
              "      display: none;\n",
              "      fill: #1967D2;\n",
              "      height: 32px;\n",
              "      padding: 0 0 0 0;\n",
              "      width: 32px;\n",
              "    }\n",
              "\n",
              "    .colab-df-convert:hover {\n",
              "      background-color: #E2EBFA;\n",
              "      box-shadow: 0px 1px 2px rgba(60, 64, 67, 0.3), 0px 1px 3px 1px rgba(60, 64, 67, 0.15);\n",
              "      fill: #174EA6;\n",
              "    }\n",
              "\n",
              "    [theme=dark] .colab-df-convert {\n",
              "      background-color: #3B4455;\n",
              "      fill: #D2E3FC;\n",
              "    }\n",
              "\n",
              "    [theme=dark] .colab-df-convert:hover {\n",
              "      background-color: #434B5C;\n",
              "      box-shadow: 0px 1px 3px 1px rgba(0, 0, 0, 0.15);\n",
              "      filter: drop-shadow(0px 1px 2px rgba(0, 0, 0, 0.3));\n",
              "      fill: #FFFFFF;\n",
              "    }\n",
              "  </style>\n",
              "\n",
              "      <script>\n",
              "        const buttonEl =\n",
              "          document.querySelector('#df-8ca67932-1ab4-4d72-bac4-541a0b417a57 button.colab-df-convert');\n",
              "        buttonEl.style.display =\n",
              "          google.colab.kernel.accessAllowed ? 'block' : 'none';\n",
              "\n",
              "        async function convertToInteractive(key) {\n",
              "          const element = document.querySelector('#df-8ca67932-1ab4-4d72-bac4-541a0b417a57');\n",
              "          const dataTable =\n",
              "            await google.colab.kernel.invokeFunction('convertToInteractive',\n",
              "                                                     [key], {});\n",
              "          if (!dataTable) return;\n",
              "\n",
              "          const docLinkHtml = 'Like what you see? Visit the ' +\n",
              "            '<a target=\"_blank\" href=https://colab.research.google.com/notebooks/data_table.ipynb>data table notebook</a>'\n",
              "            + ' to learn more about interactive tables.';\n",
              "          element.innerHTML = '';\n",
              "          dataTable['output_type'] = 'display_data';\n",
              "          await google.colab.output.renderOutput(dataTable, element);\n",
              "          const docLink = document.createElement('div');\n",
              "          docLink.innerHTML = docLinkHtml;\n",
              "          element.appendChild(docLink);\n",
              "        }\n",
              "      </script>\n",
              "    </div>\n",
              "  </div>\n",
              "  "
            ]
          },
          "metadata": {},
          "execution_count": 33
        }
      ]
    },
    {
      "cell_type": "code",
      "source": [
        "#Making predictions on test set, first adding constant\n",
        "X_test_new = sm.add_constant(X_test)"
      ],
      "metadata": {
        "colab": {
          "base_uri": "https://localhost:8080/"
        },
        "id": "uAQtleX3Hmkg",
        "outputId": "06eda9ee-1622-40ae-cc92-a0861bd020c2"
      },
      "execution_count": null,
      "outputs": [
        {
          "output_type": "stream",
          "name": "stderr",
          "text": [
            "/usr/local/lib/python3.7/dist-packages/statsmodels/tsa/tsatools.py:117: FutureWarning: In a future version of pandas all arguments of concat except for the argument 'objs' will be keyword-only\n",
            "  x = pd.concat(x[::order], 1)\n"
          ]
        }
      ]
    },
    {
      "cell_type": "code",
      "source": [
        "# Sorting the columns \n",
        "X_test_new = X_test_new[X_train_rfe_2.columns]"
      ],
      "metadata": {
        "id": "yY4cVoGSH8Tc"
      },
      "execution_count": null,
      "outputs": []
    },
    {
      "cell_type": "code",
      "source": [
        "# Making Predictions on new test set using the model lm_new_2 (latest model) \n",
        "y_test_pred = lm_new.predict(X_test_new)"
      ],
      "metadata": {
        "id": "6MduVmsFH9et"
      },
      "execution_count": null,
      "outputs": []
    },
    {
      "cell_type": "code",
      "source": [
        "from sklearn.metrics import r2_score\n",
        "r2_score(y_test, y_test_pred)"
      ],
      "metadata": {
        "colab": {
          "base_uri": "https://localhost:8080/"
        },
        "id": "__VFNrnRILTB",
        "outputId": "16321fe6-89fc-481e-e1b7-f99fa7782083"
      },
      "execution_count": null,
      "outputs": [
        {
          "output_type": "execute_result",
          "data": {
            "text/plain": [
              "0.7311146222724807"
            ]
          },
          "metadata": {},
          "execution_count": 37
        }
      ]
    },
    {
      "cell_type": "code",
      "source": [
        "from sklearn.metrics import mean_squared_error\n",
        "mse=mean_squared_error(y_test, y_test_pred)\n",
        "mse"
      ],
      "metadata": {
        "colab": {
          "base_uri": "https://localhost:8080/"
        },
        "id": "FBqhLQbRJ_fG",
        "outputId": "60a50e13-4d2b-4a76-ff15-a56cdd91ca6f"
      },
      "execution_count": null,
      "outputs": [
        {
          "output_type": "execute_result",
          "data": {
            "text/plain": [
              "25.972802925960856"
            ]
          },
          "metadata": {},
          "execution_count": 38
        }
      ]
    },
    {
      "cell_type": "code",
      "source": [
        "rmse=np.sqrt(mse)\n",
        "rmse"
      ],
      "metadata": {
        "colab": {
          "base_uri": "https://localhost:8080/"
        },
        "id": "onS_Euo8IN94",
        "outputId": "b929dd28-ffd5-4d4f-ee1f-91be2ac3efcb"
      },
      "execution_count": null,
      "outputs": [
        {
          "output_type": "execute_result",
          "data": {
            "text/plain": [
              "5.096351923284033"
            ]
          },
          "metadata": {},
          "execution_count": 39
        }
      ]
    },
    {
      "cell_type": "markdown",
      "source": [
        "\n",
        "*   Linear model assumptions - Homodescascity, Multicollinearity & Error terms distribution were verified\n",
        "*   The most significant predictor variables are Temp(temperature), Year and Snowy (weather)\n",
        "*   72% of the demand is explained by these three most significant variables"
      ],
      "metadata": {
        "id": "VPJ4eRs5JhDY"
      }
    },
    {
      "cell_type": "code",
      "source": [
        ""
      ],
      "metadata": {
        "id": "XeWhm2omJxk1"
      },
      "execution_count": null,
      "outputs": []
    }
  ],
  "metadata": {
    "colab": {
      "name": "regresi_linear_feature_selection.ipynb",
      "provenance": []
    },
    "kernelspec": {
      "display_name": "Python 3",
      "name": "python3"
    },
    "language_info": {
      "name": "python"
    }
  },
  "nbformat": 4,
  "nbformat_minor": 0
}