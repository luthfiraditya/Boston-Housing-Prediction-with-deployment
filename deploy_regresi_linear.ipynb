{
 "cells": [
  {
   "cell_type": "code",
   "execution_count": 1,
   "metadata": {
    "id": "BUE82-GVBMgF"
   },
   "outputs": [],
   "source": [
    "#! pip install https://github.com/pandas-profiling/pandas-profiling/archive/master.zip "
   ]
  },
  {
   "cell_type": "code",
   "execution_count": 58,
   "metadata": {
    "id": "hfHWNEhwwKfZ"
   },
   "outputs": [],
   "source": [
    "from sklearn.datasets import load_boston\n",
    "import pandas as pd\n",
    "import numpy as np\n",
    "from pandas_profiling import ProfileReport\n",
    "\n",
    "import numpy as np # linear algebra\n",
    "#import pandas as pd # data processing, CSV file I/O (e.g. pd.read_csv)\n",
    "\n",
    "# Input data files are available in the \"../input/\" directory.\n",
    "# For example, running this (by clicking run or pressing Shift+Enter) will list all files under the input directory\n",
    "\"\"\"\n",
    "import matplotlib\n",
    "import matplotlib.pyplot as plt\n",
    "import seaborn as sns\n",
    "sns.set(style='white')\n",
    "%matplotlib inline\n",
    "\n",
    "\n",
    "import statsmodels.api as sm\n",
    "from statsmodels.stats.outliers_influence import variance_inflation_factor\n",
    "\"\"\"\n",
    "\n",
    "from sklearn.model_selection import train_test_split\n",
    "from sklearn.metrics import r2_score"
   ]
  },
  {
   "cell_type": "markdown",
   "metadata": {
    "id": "Ajx34eGXwsLz"
   },
   "source": [
    "Variabel explanation\n",
    "\n",
    "CRIM     per capita crime rate by town\n",
    "\n",
    "ZN       proportion of residential land zoned for lots over 25,000 sq.ft.\n",
    "\n",
    "INDUS    proportion of non-retail business acres per town\n",
    "\n",
    "CHAS     Charles River dummy variable (= 1 if tract bounds river; 0 otherwise)\n",
    "\n",
    "NOX      nitric oxides concentration (parts per 10 million)\n",
    "\n",
    "RM       average number of rooms per dwelling\n",
    "\n",
    "AGE      proportion of owner-occupied units built prior to 1940\n",
    "\n",
    "DIS      weighted distances to five Boston employment centres\n",
    "\n",
    "RAD      index of accessibility to radial highways\n",
    "\n",
    "TAX      full-value property-tax rate per $10,000\n",
    "\n",
    "PTRATIO  pupil-teacher ratio by town\n",
    "\n",
    "B        1000(Bk - 0.63)^2 where Bk is the proportion of blacks by town\n",
    "\n",
    "LSTAT    % lower status of the population\n",
    "\n",
    "\n",
    "---\n",
    "\n",
    "\n",
    "MEDV     Median value of owner-occupied homes in $1000's\n",
    "\n",
    "---\n"
   ]
  },
  {
   "cell_type": "code",
   "execution_count": 59,
   "metadata": {
    "colab": {
     "base_uri": "https://localhost:8080/"
    },
    "id": "uIhYOk-K_68-",
    "outputId": "9f5458d2-120c-43ec-e8dd-fae40e06dcd4"
   },
   "outputs": [],
   "source": [
    "boston=load_boston()"
   ]
  },
  {
   "cell_type": "code",
   "execution_count": 60,
   "metadata": {
    "colab": {
     "base_uri": "https://localhost:8080/"
    },
    "id": "VvPd1rtJANHJ",
    "outputId": "245e85b8-3034-4730-f4c3-335bbb1a093b"
   },
   "outputs": [
    {
     "name": "stdout",
     "output_type": "stream",
     "text": [
      "['load_boston', 'load_breast_cancer', 'load_diabetes', 'load_digits', 'load_files', 'load_iris', 'load_linnerud', 'load_sample_image', 'load_sample_images', 'load_svmlight_file', 'load_svmlight_files', 'load_wine']\n"
     ]
    }
   ],
   "source": [
    "from sklearn import datasets\n",
    "\n",
    "fnames = [ i for i in dir(datasets) if 'load_' in i]\n",
    "print(fnames)\n",
    "\n",
    "fname = 'load_boston'\n",
    "loader = getattr(datasets,fname)()\n",
    "df = pd.DataFrame(loader['data'],columns= loader['feature_names'])\n",
    "df['target'] = loader['target']"
   ]
  },
  {
   "cell_type": "code",
   "execution_count": 87,
   "metadata": {},
   "outputs": [
    {
     "data": {
      "text/html": [
       "<div>\n",
       "<style scoped>\n",
       "    .dataframe tbody tr th:only-of-type {\n",
       "        vertical-align: middle;\n",
       "    }\n",
       "\n",
       "    .dataframe tbody tr th {\n",
       "        vertical-align: top;\n",
       "    }\n",
       "\n",
       "    .dataframe thead th {\n",
       "        text-align: right;\n",
       "    }\n",
       "</style>\n",
       "<table border=\"1\" class=\"dataframe\">\n",
       "  <thead>\n",
       "    <tr style=\"text-align: right;\">\n",
       "      <th></th>\n",
       "      <th>RM</th>\n",
       "      <th>LSTAT</th>\n",
       "      <th>INDUS</th>\n",
       "      <th>PTRATIO</th>\n",
       "      <th>TAX</th>\n",
       "      <th>target</th>\n",
       "    </tr>\n",
       "  </thead>\n",
       "  <tbody>\n",
       "    <tr>\n",
       "      <th>0</th>\n",
       "      <td>6.575</td>\n",
       "      <td>4.98</td>\n",
       "      <td>2.31</td>\n",
       "      <td>15.3</td>\n",
       "      <td>296.0</td>\n",
       "      <td>24.0</td>\n",
       "    </tr>\n",
       "    <tr>\n",
       "      <th>1</th>\n",
       "      <td>6.421</td>\n",
       "      <td>9.14</td>\n",
       "      <td>7.07</td>\n",
       "      <td>17.8</td>\n",
       "      <td>242.0</td>\n",
       "      <td>21.6</td>\n",
       "    </tr>\n",
       "    <tr>\n",
       "      <th>2</th>\n",
       "      <td>7.185</td>\n",
       "      <td>4.03</td>\n",
       "      <td>7.07</td>\n",
       "      <td>17.8</td>\n",
       "      <td>242.0</td>\n",
       "      <td>34.7</td>\n",
       "    </tr>\n",
       "    <tr>\n",
       "      <th>3</th>\n",
       "      <td>6.998</td>\n",
       "      <td>2.94</td>\n",
       "      <td>2.18</td>\n",
       "      <td>18.7</td>\n",
       "      <td>222.0</td>\n",
       "      <td>33.4</td>\n",
       "    </tr>\n",
       "    <tr>\n",
       "      <th>4</th>\n",
       "      <td>7.147</td>\n",
       "      <td>5.33</td>\n",
       "      <td>2.18</td>\n",
       "      <td>18.7</td>\n",
       "      <td>222.0</td>\n",
       "      <td>36.2</td>\n",
       "    </tr>\n",
       "    <tr>\n",
       "      <th>...</th>\n",
       "      <td>...</td>\n",
       "      <td>...</td>\n",
       "      <td>...</td>\n",
       "      <td>...</td>\n",
       "      <td>...</td>\n",
       "      <td>...</td>\n",
       "    </tr>\n",
       "    <tr>\n",
       "      <th>501</th>\n",
       "      <td>6.593</td>\n",
       "      <td>9.67</td>\n",
       "      <td>11.93</td>\n",
       "      <td>21.0</td>\n",
       "      <td>273.0</td>\n",
       "      <td>22.4</td>\n",
       "    </tr>\n",
       "    <tr>\n",
       "      <th>502</th>\n",
       "      <td>6.120</td>\n",
       "      <td>9.08</td>\n",
       "      <td>11.93</td>\n",
       "      <td>21.0</td>\n",
       "      <td>273.0</td>\n",
       "      <td>20.6</td>\n",
       "    </tr>\n",
       "    <tr>\n",
       "      <th>503</th>\n",
       "      <td>6.976</td>\n",
       "      <td>5.64</td>\n",
       "      <td>11.93</td>\n",
       "      <td>21.0</td>\n",
       "      <td>273.0</td>\n",
       "      <td>23.9</td>\n",
       "    </tr>\n",
       "    <tr>\n",
       "      <th>504</th>\n",
       "      <td>6.794</td>\n",
       "      <td>6.48</td>\n",
       "      <td>11.93</td>\n",
       "      <td>21.0</td>\n",
       "      <td>273.0</td>\n",
       "      <td>22.0</td>\n",
       "    </tr>\n",
       "    <tr>\n",
       "      <th>505</th>\n",
       "      <td>6.030</td>\n",
       "      <td>7.88</td>\n",
       "      <td>11.93</td>\n",
       "      <td>21.0</td>\n",
       "      <td>273.0</td>\n",
       "      <td>11.9</td>\n",
       "    </tr>\n",
       "  </tbody>\n",
       "</table>\n",
       "<p>506 rows × 6 columns</p>\n",
       "</div>"
      ],
      "text/plain": [
       "        RM  LSTAT  INDUS  PTRATIO    TAX  target\n",
       "0    6.575   4.98   2.31     15.3  296.0    24.0\n",
       "1    6.421   9.14   7.07     17.8  242.0    21.6\n",
       "2    7.185   4.03   7.07     17.8  242.0    34.7\n",
       "3    6.998   2.94   2.18     18.7  222.0    33.4\n",
       "4    7.147   5.33   2.18     18.7  222.0    36.2\n",
       "..     ...    ...    ...      ...    ...     ...\n",
       "501  6.593   9.67  11.93     21.0  273.0    22.4\n",
       "502  6.120   9.08  11.93     21.0  273.0    20.6\n",
       "503  6.976   5.64  11.93     21.0  273.0    23.9\n",
       "504  6.794   6.48  11.93     21.0  273.0    22.0\n",
       "505  6.030   7.88  11.93     21.0  273.0    11.9\n",
       "\n",
       "[506 rows x 6 columns]"
      ]
     },
     "execution_count": 87,
     "metadata": {},
     "output_type": "execute_result"
    }
   ],
   "source": [
    "df"
   ]
  },
  {
   "cell_type": "code",
   "execution_count": 61,
   "metadata": {
    "colab": {
     "base_uri": "https://localhost:8080/",
     "height": 423
    },
    "id": "rF3kFx8RTldt",
    "outputId": "80ed2c07-4a3b-462f-dfcf-c92237b12c56"
   },
   "outputs": [
    {
     "data": {
      "text/plain": [
       "711.0"
      ]
     },
     "execution_count": 61,
     "metadata": {},
     "output_type": "execute_result"
    }
   ],
   "source": [
    "df.TAX.max()"
   ]
  },
  {
   "cell_type": "code",
   "execution_count": 62,
   "metadata": {
    "id": "fazDWe2RTlgb"
   },
   "outputs": [],
   "source": [
    "feature_sel=[\"RM\",\"LSTAT\",\"INDUS\",\"PTRATIO\",\"TAX\",\"target\"]\n",
    "df=df[feature_sel]"
   ]
  },
  {
   "cell_type": "code",
   "execution_count": 63,
   "metadata": {
    "id": "ExhlzEsMTlj1"
   },
   "outputs": [],
   "source": [
    "X=df.loc[:, df.columns != 'target']\n",
    "y=df[\"target\"]"
   ]
  },
  {
   "cell_type": "code",
   "execution_count": 64,
   "metadata": {
    "id": "u2VUK0cNUN3a"
   },
   "outputs": [],
   "source": [
    "# Split training and test dataset\n",
    "X_train, X_test, y_train, y_test = train_test_split(X, y, test_size=0.2,random_state=100)\n"
   ]
  },
  {
   "cell_type": "code",
   "execution_count": 65,
   "metadata": {
    "colab": {
     "base_uri": "https://localhost:8080/"
    },
    "id": "ZDpkqSIgT9o-",
    "outputId": "291f8bc9-d9ac-41cf-9da3-e12c03e2ab3c"
   },
   "outputs": [
    {
     "data": {
      "text/plain": [
       "LinearRegression()"
      ]
     },
     "execution_count": 65,
     "metadata": {},
     "output_type": "execute_result"
    }
   ],
   "source": [
    "from sklearn.feature_selection import RFE\n",
    "from sklearn.linear_model import LinearRegression\n",
    "\n",
    "# Fitting the model on the tarining set and running RFE to select top 10 variables \n",
    "lm = LinearRegression()\n",
    "lm.fit(X_train, y_train)\n",
    "\n"
   ]
  },
  {
   "cell_type": "code",
   "execution_count": 85,
   "metadata": {
    "colab": {
     "base_uri": "https://localhost:8080/"
    },
    "id": "c9cfZkZlTlms",
    "outputId": "292e15db-84e8-4d53-ec76-70c4c371388b"
   },
   "outputs": [
    {
     "name": "stdout",
     "output_type": "stream",
     "text": [
      "()\n"
     ]
    }
   ],
   "source": [
    "\n",
    "predictions = lm.predict(X_test)[0]\n",
    "print(predictions.shape)\n",
    "predictions_k=round(predictions)\n",
    "predictions_k=predictions_k*10000"
   ]
  },
  {
   "cell_type": "code",
   "execution_count": 86,
   "metadata": {},
   "outputs": [
    {
     "data": {
      "text/plain": [
       "350000"
      ]
     },
     "execution_count": 86,
     "metadata": {},
     "output_type": "execute_result"
    }
   ],
   "source": [
    "predictions_k"
   ]
  },
  {
   "cell_type": "code",
   "execution_count": 67,
   "metadata": {
    "id": "bk1TUxm_TlqW"
   },
   "outputs": [],
   "source": [
    "from sklearn import metrics"
   ]
  },
  {
   "cell_type": "code",
   "execution_count": 68,
   "metadata": {
    "colab": {
     "base_uri": "https://localhost:8080/"
    },
    "id": "vC3L0lBmVFSV",
    "outputId": "df76a714-9dc2-45fe-b0df-859386e17c47"
   },
   "outputs": [
    {
     "name": "stdout",
     "output_type": "stream",
     "text": [
      "MAE: 3.771880624629838\n",
      "MSE: 28.76710297346222\n",
      "RMSE: 5.363497270761142\n",
      "R2:  0.7021864228055904\n"
     ]
    }
   ],
   "source": [
    "print(\"MAE:\", metrics.mean_absolute_error(y_test, predictions))\n",
    "print('MSE:', metrics.mean_squared_error(y_test, predictions))\n",
    "print('RMSE:', np.sqrt(metrics.mean_squared_error(y_test, predictions)))\n",
    "print('R2: ',r2_score(y_test, predictions))"
   ]
  },
  {
   "cell_type": "code",
   "execution_count": 69,
   "metadata": {
    "id": "aFLMsY78Vc0_"
   },
   "outputs": [],
   "source": [
    "import pickle\n"
   ]
  },
  {
   "cell_type": "code",
   "execution_count": 70,
   "metadata": {
    "id": "SX5mxn2zhb2P"
   },
   "outputs": [],
   "source": [
    "with open('lr_pickle','wb') as r:\n",
    "    pickle.dump(lm,r)"
   ]
  },
  {
   "cell_type": "code",
   "execution_count": 71,
   "metadata": {},
   "outputs": [],
   "source": [
    "with open('lr_pickle','rb') as r:\n",
    "    linear_r=pickle.load(r)"
   ]
  },
  {
   "cell_type": "code",
   "execution_count": 72,
   "metadata": {},
   "outputs": [
    {
     "name": "stdout",
     "output_type": "stream",
     "text": [
      "R2 pickle:  0.7021864228055904\n"
     ]
    }
   ],
   "source": [
    "y_pred=linear_r.predict(X_test)\n",
    "print('R2 pickle: ',r2_score(y_test, predictions))"
   ]
  },
  {
   "cell_type": "code",
   "execution_count": 75,
   "metadata": {},
   "outputs": [
    {
     "name": "stdout",
     "output_type": "stream",
     "text": [
      "labels\n",
      " Index(['RM', 'LSTAT', 'INDUS', 'PTRATIO', 'TAX'], dtype='object')\n",
      "Coefficients: \n",
      " [ 4.42272838e+00 -5.32803009e-01  3.15109778e-02 -8.90751219e-01\n",
      " -2.92861007e-03]\n",
      "Intercept: \n",
      " 18.882178452947834\n",
      "R2 for Train) 0.6724592120560979\n",
      "R2 for Test (cross validation) 0.7021864228055904\n"
     ]
    }
   ],
   "source": [
    "print('labels\\n',X.columns)\n",
    "print('Coefficients: \\n', lm.coef_)\n",
    "print('Intercept: \\n', lm.intercept_)\n",
    "print('R2 for Train)', lm.score( X_train, y_train ))\n",
    "print('R2 for Test (cross validation)', lm.score(X_test, y_test))"
   ]
  },
  {
   "cell_type": "code",
   "execution_count": null,
   "metadata": {},
   "outputs": [],
   "source": []
  }
 ],
 "metadata": {
  "colab": {
   "name": "deploy regresi_linear.ipynb",
   "provenance": []
  },
  "kernelspec": {
   "display_name": "Python 3",
   "language": "python",
   "name": "python3"
  },
  "language_info": {
   "codemirror_mode": {
    "name": "ipython",
    "version": 3
   },
   "file_extension": ".py",
   "mimetype": "text/x-python",
   "name": "python",
   "nbconvert_exporter": "python",
   "pygments_lexer": "ipython3",
   "version": "3.8.3"
  }
 },
 "nbformat": 4,
 "nbformat_minor": 4
}
